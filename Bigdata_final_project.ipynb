{
 "cells": [
  {
   "cell_type": "markdown",
   "metadata": {},
   "source": [
    "# Big Data Project - Amazon Reviews"
   ]
  },
  {
   "cell_type": "markdown",
   "metadata": {},
   "source": [
    "By Siqi Jiang, Lingchen Kong, Haofu Wu, Guangzhe Zhu "
   ]
  },
  {
   "cell_type": "markdown",
   "metadata": {},
   "source": [
    "## Import Spark"
   ]
  },
  {
   "cell_type": "code",
   "execution_count": 1,
   "metadata": {},
   "outputs": [],
   "source": [
    "import findspark\n",
    "findspark.init()\n",
    "from pyspark.sql import SparkSession\n",
    "spark = SparkSession.builder.appName(\"project`\").getOrCreate()"
   ]
  },
  {
   "cell_type": "code",
   "execution_count": 2,
   "metadata": {},
   "outputs": [
    {
     "data": {
      "text/html": [
       "\n",
       "            <div>\n",
       "                <p><b>SparkSession - in-memory</b></p>\n",
       "                \n",
       "        <div>\n",
       "            <p><b>SparkContext</b></p>\n",
       "\n",
       "            <p><a href=\"http://ip-172-31-30-117.ec2.internal:4040\">Spark UI</a></p>\n",
       "\n",
       "            <dl>\n",
       "              <dt>Version</dt>\n",
       "                <dd><code>v2.4.2</code></dd>\n",
       "              <dt>Master</dt>\n",
       "                <dd><code>yarn</code></dd>\n",
       "              <dt>AppName</dt>\n",
       "                <dd><code>project`</code></dd>\n",
       "            </dl>\n",
       "        </div>\n",
       "        \n",
       "            </div>\n",
       "        "
      ],
      "text/plain": [
       "<pyspark.sql.session.SparkSession at 0x7fb19475a550>"
      ]
     },
     "execution_count": 2,
     "metadata": {},
     "output_type": "execute_result"
    }
   ],
   "source": [
    "spark"
   ]
  },
  {
   "cell_type": "markdown",
   "metadata": {},
   "source": [
    "## Data Preparation"
   ]
  },
  {
   "cell_type": "code",
   "execution_count": 3,
   "metadata": {},
   "outputs": [],
   "source": [
    "import pandas as pd\n",
    "import numpy as np\n",
    "import pyspark.sql.functions as F"
   ]
  },
  {
   "cell_type": "code",
   "execution_count": 4,
   "metadata": {},
   "outputs": [],
   "source": [
    "# set pandas display max length\n",
    "pd.options.display.max_colwidth = 100"
   ]
  },
  {
   "cell_type": "code",
   "execution_count": 5,
   "metadata": {},
   "outputs": [],
   "source": [
    "# import review dataset\n",
    "reviews = spark.read.parquet(\"s3://amazon-reviews-pds/parquet\")"
   ]
  },
  {
   "cell_type": "code",
   "execution_count": 6,
   "metadata": {},
   "outputs": [
    {
     "name": "stderr",
     "output_type": "stream",
     "text": [
      "/home/hadoop/miniconda/lib/python3.6/site-packages/pyarrow/pandas_compat.py:752: FutureWarning: .labels was deprecated in version 0.24.0. Use .codes instead.\n",
      "  labels, = index.labels\n"
     ]
    },
    {
     "data": {
      "text/html": [
       "<div>\n",
       "<style scoped>\n",
       "    .dataframe tbody tr th:only-of-type {\n",
       "        vertical-align: middle;\n",
       "    }\n",
       "\n",
       "    .dataframe tbody tr th {\n",
       "        vertical-align: top;\n",
       "    }\n",
       "\n",
       "    .dataframe thead th {\n",
       "        text-align: right;\n",
       "    }\n",
       "</style>\n",
       "<table border=\"1\" class=\"dataframe\">\n",
       "  <thead>\n",
       "    <tr style=\"text-align: right;\">\n",
       "      <th></th>\n",
       "      <th>marketplace</th>\n",
       "      <th>customer_id</th>\n",
       "      <th>review_id</th>\n",
       "      <th>product_id</th>\n",
       "      <th>product_parent</th>\n",
       "      <th>product_title</th>\n",
       "      <th>star_rating</th>\n",
       "      <th>helpful_votes</th>\n",
       "      <th>total_votes</th>\n",
       "      <th>vine</th>\n",
       "      <th>verified_purchase</th>\n",
       "      <th>review_headline</th>\n",
       "      <th>review_body</th>\n",
       "      <th>review_date</th>\n",
       "      <th>year</th>\n",
       "      <th>product_category</th>\n",
       "    </tr>\n",
       "  </thead>\n",
       "  <tbody>\n",
       "    <tr>\n",
       "      <th>0</th>\n",
       "      <td>US</td>\n",
       "      <td>15008761</td>\n",
       "      <td>R3RXRGB5VRJCZL</td>\n",
       "      <td>1591397839</td>\n",
       "      <td>820845987</td>\n",
       "      <td>The Ultimate Question: Driving Good Profits and True Growth</td>\n",
       "      <td>4</td>\n",
       "      <td>0</td>\n",
       "      <td>0</td>\n",
       "      <td>N</td>\n",
       "      <td>Y</td>\n",
       "      <td>A Useful and Straightforward Tool</td>\n",
       "      <td>We currently use the Net Promoter Score concept at the Glass Doctor, but I wanted to get a bette...</td>\n",
       "      <td>2010-10-25</td>\n",
       "      <td>2010</td>\n",
       "      <td>Books</td>\n",
       "    </tr>\n",
       "    <tr>\n",
       "      <th>1</th>\n",
       "      <td>US</td>\n",
       "      <td>51736210</td>\n",
       "      <td>R1FNQ7EQ9RAFON</td>\n",
       "      <td>0876379978</td>\n",
       "      <td>271304978</td>\n",
       "      <td>How to Make Money in Coins Right Now (House of collectibles)</td>\n",
       "      <td>5</td>\n",
       "      <td>23</td>\n",
       "      <td>38</td>\n",
       "      <td>N</td>\n",
       "      <td>N</td>\n",
       "      <td>TRAVERS IS A GENIUS!</td>\n",
       "      <td>but there is a catch. Yes I am following Traver's advice. I don't plan on making a cent for 6 mo...</td>\n",
       "      <td>2000-07-17</td>\n",
       "      <td>2000</td>\n",
       "      <td>Books</td>\n",
       "    </tr>\n",
       "    <tr>\n",
       "      <th>2</th>\n",
       "      <td>US</td>\n",
       "      <td>39757245</td>\n",
       "      <td>R1YOWU9YS3IONV</td>\n",
       "      <td>0307457052</td>\n",
       "      <td>464955579</td>\n",
       "      <td>The Miracle of Mercy Land: A Novel</td>\n",
       "      <td>4</td>\n",
       "      <td>0</td>\n",
       "      <td>0</td>\n",
       "      <td>N</td>\n",
       "      <td>N</td>\n",
       "      <td>Intriguing Read!</td>\n",
       "      <td>River Jordan's fourth novel opens with the birth of Mercy Land to hard-working, faithful parents...</td>\n",
       "      <td>2010-10-25</td>\n",
       "      <td>2010</td>\n",
       "      <td>Books</td>\n",
       "    </tr>\n",
       "    <tr>\n",
       "      <th>3</th>\n",
       "      <td>DE</td>\n",
       "      <td>53079534</td>\n",
       "      <td>R39KAX81XDHQVM</td>\n",
       "      <td>0380788624</td>\n",
       "      <td>555229230</td>\n",
       "      <td>Cryptonomicon</td>\n",
       "      <td>1</td>\n",
       "      <td>2</td>\n",
       "      <td>6</td>\n",
       "      <td>N</td>\n",
       "      <td>N</td>\n",
       "      <td>Pretentious, ponderous, and self-absorbed</td>\n",
       "      <td>I was only able to get to page 64 of this clunker.  Genitalia is mentioned often; the author eve...</td>\n",
       "      <td>2000-07-17</td>\n",
       "      <td>2000</td>\n",
       "      <td>Books</td>\n",
       "    </tr>\n",
       "    <tr>\n",
       "      <th>4</th>\n",
       "      <td>US</td>\n",
       "      <td>50143808</td>\n",
       "      <td>RR7QWQHGKU3K7</td>\n",
       "      <td>0307270661</td>\n",
       "      <td>920731407</td>\n",
       "      <td>Life Would Be Perfect If I Lived in That House</td>\n",
       "      <td>5</td>\n",
       "      <td>0</td>\n",
       "      <td>1</td>\n",
       "      <td>Y</td>\n",
       "      <td>N</td>\n",
       "      <td>Witty Original Book</td>\n",
       "      <td>I really liked Megan Daum's previous book so I was eager to read this one.  Daum has a readable,...</td>\n",
       "      <td>2010-10-25</td>\n",
       "      <td>2010</td>\n",
       "      <td>Books</td>\n",
       "    </tr>\n",
       "  </tbody>\n",
       "</table>\n",
       "</div>"
      ],
      "text/plain": [
       "  marketplace customer_id       review_id  product_id product_parent  \\\n",
       "0          US    15008761  R3RXRGB5VRJCZL  1591397839      820845987   \n",
       "1          US    51736210  R1FNQ7EQ9RAFON  0876379978      271304978   \n",
       "2          US    39757245  R1YOWU9YS3IONV  0307457052      464955579   \n",
       "3          DE    53079534  R39KAX81XDHQVM  0380788624      555229230   \n",
       "4          US    50143808   RR7QWQHGKU3K7  0307270661      920731407   \n",
       "\n",
       "                                                  product_title  star_rating  \\\n",
       "0   The Ultimate Question: Driving Good Profits and True Growth            4   \n",
       "1  How to Make Money in Coins Right Now (House of collectibles)            5   \n",
       "2                            The Miracle of Mercy Land: A Novel            4   \n",
       "3                                                 Cryptonomicon            1   \n",
       "4                Life Would Be Perfect If I Lived in That House            5   \n",
       "\n",
       "   helpful_votes  total_votes vine verified_purchase  \\\n",
       "0              0            0    N                 Y   \n",
       "1             23           38    N                 N   \n",
       "2              0            0    N                 N   \n",
       "3              2            6    N                 N   \n",
       "4              0            1    Y                 N   \n",
       "\n",
       "                             review_headline  \\\n",
       "0          A Useful and Straightforward Tool   \n",
       "1                       TRAVERS IS A GENIUS!   \n",
       "2                           Intriguing Read!   \n",
       "3  Pretentious, ponderous, and self-absorbed   \n",
       "4                        Witty Original Book   \n",
       "\n",
       "                                                                                           review_body  \\\n",
       "0  We currently use the Net Promoter Score concept at the Glass Doctor, but I wanted to get a bette...   \n",
       "1  but there is a catch. Yes I am following Traver's advice. I don't plan on making a cent for 6 mo...   \n",
       "2  River Jordan's fourth novel opens with the birth of Mercy Land to hard-working, faithful parents...   \n",
       "3  I was only able to get to page 64 of this clunker.  Genitalia is mentioned often; the author eve...   \n",
       "4  I really liked Megan Daum's previous book so I was eager to read this one.  Daum has a readable,...   \n",
       "\n",
       "  review_date  year product_category  \n",
       "0  2010-10-25  2010            Books  \n",
       "1  2000-07-17  2000            Books  \n",
       "2  2010-10-25  2010            Books  \n",
       "3  2000-07-17  2000            Books  \n",
       "4  2010-10-25  2010            Books  "
      ]
     },
     "execution_count": 6,
     "metadata": {},
     "output_type": "execute_result"
    }
   ],
   "source": [
    "# show first 5 lines in \n",
    "reviews.limit(5).toPandas()"
   ]
  },
  {
   "cell_type": "code",
   "execution_count": 9,
   "metadata": {},
   "outputs": [
    {
     "data": {
      "text/plain": [
       "160796570"
      ]
     },
     "execution_count": 9,
     "metadata": {},
     "output_type": "execute_result"
    }
   ],
   "source": [
    "# count the row number of the dataset\n",
    "reviews.count()"
   ]
  },
  {
   "cell_type": "code",
   "execution_count": 7,
   "metadata": {},
   "outputs": [
    {
     "name": "stdout",
     "output_type": "stream",
     "text": [
      "root\n",
      " |-- marketplace: string (nullable = true)\n",
      " |-- customer_id: string (nullable = true)\n",
      " |-- review_id: string (nullable = true)\n",
      " |-- product_id: string (nullable = true)\n",
      " |-- product_parent: string (nullable = true)\n",
      " |-- product_title: string (nullable = true)\n",
      " |-- star_rating: integer (nullable = true)\n",
      " |-- helpful_votes: integer (nullable = true)\n",
      " |-- total_votes: integer (nullable = true)\n",
      " |-- vine: string (nullable = true)\n",
      " |-- verified_purchase: string (nullable = true)\n",
      " |-- review_headline: string (nullable = true)\n",
      " |-- review_body: string (nullable = true)\n",
      " |-- review_date: date (nullable = true)\n",
      " |-- year: integer (nullable = true)\n",
      " |-- product_category: string (nullable = true)\n",
      "\n"
     ]
    }
   ],
   "source": [
    "# View the schema of the dataset\n",
    "reviews.printSchema()"
   ]
  },
  {
   "cell_type": "code",
   "execution_count": 36,
   "metadata": {},
   "outputs": [
    {
     "name": "stdout",
     "output_type": "stream",
     "text": [
      "US 157893444\n",
      "DE 679121\n",
      "FR 254080\n",
      "UK 1707494\n",
      "JP 262431\n"
     ]
    }
   ],
   "source": [
    "# show the row number of different marketplaces\n",
    "print('US', reviews.filter(\"marketplace = 'US'\").count())\n",
    "print('DE', reviews.filter(\"marketplace = 'DE'\").count())\n",
    "print('FR', reviews.filter(\"marketplace = 'FR'\").count())\n",
    "print('UK', reviews.filter(\"marketplace = 'UK'\").count())\n",
    "print('JP', reviews.filter(\"marketplace = 'JP'\").count())"
   ]
  },
  {
   "cell_type": "code",
   "execution_count": 42,
   "metadata": {},
   "outputs": [
    {
     "data": {
      "text/plain": [
       "43"
      ]
     },
     "execution_count": 42,
     "metadata": {},
     "output_type": "execute_result"
    }
   ],
   "source": [
    "# check the number of product category\n",
    "reviews.select('product_category').distinct().count()"
   ]
  },
  {
   "cell_type": "code",
   "execution_count": 44,
   "metadata": {},
   "outputs": [
    {
     "name": "stdout",
     "output_type": "stream",
     "text": [
      "+--------------------+\n",
      "|    product_category|\n",
      "+--------------------+\n",
      "|                  PC|\n",
      "|             Kitchen|\n",
      "|                Home|\n",
      "|            Wireless|\n",
      "|               Video|\n",
      "| Digital_Video_Games|\n",
      "|Digital_Video_Dow...|\n",
      "|             Luggage|\n",
      "|              Sports|\n",
      "|         Video_Games|\n",
      "|  Mobile_Electronics|\n",
      "|  Home_Entertainment|\n",
      "|Digital_Ebook_Pur...|\n",
      "|                Baby|\n",
      "|             Apparel|\n",
      "|    Major_Appliances|\n",
      "|             Grocery|\n",
      "|               Tools|\n",
      "|         Electronics|\n",
      "|            Outdoors|\n",
      "|     Lawn_and_Garden|\n",
      "|    Home_Improvement|\n",
      "|        Pet_Products|\n",
      "|          Automotive|\n",
      "| Musical_Instruments|\n",
      "|               Books|\n",
      "|    Digital_Software|\n",
      "|Health_&_Personal...|\n",
      "|               Music|\n",
      "|           Furniture|\n",
      "|Personal_Care_App...|\n",
      "|            Software|\n",
      "|         Mobile_Apps|\n",
      "|Digital_Music_Pur...|\n",
      "|              Camera|\n",
      "|               Shoes|\n",
      "|     Office_Products|\n",
      "|           Gift_Card|\n",
      "|             Jewelry|\n",
      "|             Watches|\n",
      "|              Beauty|\n",
      "|                Toys|\n",
      "|           Video_DVD|\n",
      "+--------------------+\n",
      "\n"
     ]
    }
   ],
   "source": [
    "# show all product category\n",
    "reviews.select('product_category').distinct().show(43)"
   ]
  },
  {
   "cell_type": "markdown",
   "metadata": {},
   "source": [
    "### US DATA"
   ]
  },
  {
   "cell_type": "code",
   "execution_count": 8,
   "metadata": {},
   "outputs": [],
   "source": [
    "# select review for only US market\n",
    "us_reviews = reviews.filter(\"marketplace = 'US'\").cache()"
   ]
  },
  {
   "cell_type": "code",
   "execution_count": 10,
   "metadata": {},
   "outputs": [],
   "source": [
    "# register for US market reviews' sql table\n",
    "us_reviews.createOrReplaceTempView('ustbl')"
   ]
  },
  {
   "cell_type": "code",
   "execution_count": 11,
   "metadata": {},
   "outputs": [
    {
     "name": "stdout",
     "output_type": "stream",
     "text": [
      "+---------+\n",
      "| count(1)|\n",
      "+---------+\n",
      "|157893444|\n",
      "+---------+\n",
      "\n"
     ]
    }
   ],
   "source": [
    "# check the row number of US market reviews\n",
    "spark.sql(\"\"\"select count(*) from ustbl\"\"\").show()"
   ]
  },
  {
   "cell_type": "markdown",
   "metadata": {},
   "source": [
    "## Part 1: General Exploration"
   ]
  },
  {
   "cell_type": "markdown",
   "metadata": {},
   "source": [
    "#### Part a: Review trend in 10 years (2006-2015) "
   ]
  },
  {
   "cell_type": "code",
   "execution_count": 145,
   "metadata": {},
   "outputs": [],
   "source": [
    "from pyspark.sql.functions import year,month\n",
    "from pyspark.sql.functions import col\n",
    "us_reviews = us_reviews.withColumn(\"month\",month(col(\"review_date\")))"
   ]
  },
  {
   "cell_type": "code",
   "execution_count": 146,
   "metadata": {},
   "outputs": [
    {
     "name": "stderr",
     "output_type": "stream",
     "text": [
      "/home/hadoop/miniconda/lib/python3.6/site-packages/pyarrow/pandas_compat.py:752: FutureWarning: .labels was deprecated in version 0.24.0. Use .codes instead.\n",
      "  labels, = index.labels\n"
     ]
    }
   ],
   "source": [
    "# count review amout by year and month\n",
    "us_reviews_count = us_reviews.groupBy(\"year\",\"month\").agg(F.count(\"*\").alias(\"count\")).orderBy(\"year\",\"month\").toPandas()\n",
    "us_reviews_count['year-month'] = pd.to_datetime(us_reviews_count[['year', 'month']].assign(Day=1))"
   ]
  },
  {
   "cell_type": "code",
   "execution_count": 147,
   "metadata": {},
   "outputs": [],
   "source": [
    "ten_year_reviews = us_reviews_count[(us_reviews_count[\"year\"]>= 2006)&(us_reviews_count[\"year\"]<= 2015)]"
   ]
  },
  {
   "cell_type": "code",
   "execution_count": 148,
   "metadata": {},
   "outputs": [
    {
     "data": {
      "text/html": [
       "<div>\n",
       "<style scoped>\n",
       "    .dataframe tbody tr th:only-of-type {\n",
       "        vertical-align: middle;\n",
       "    }\n",
       "\n",
       "    .dataframe tbody tr th {\n",
       "        vertical-align: top;\n",
       "    }\n",
       "\n",
       "    .dataframe thead th {\n",
       "        text-align: right;\n",
       "    }\n",
       "</style>\n",
       "<table border=\"1\" class=\"dataframe\">\n",
       "  <thead>\n",
       "    <tr style=\"text-align: right;\">\n",
       "      <th></th>\n",
       "      <th>year</th>\n",
       "      <th>month</th>\n",
       "      <th>count</th>\n",
       "      <th>year-month</th>\n",
       "    </tr>\n",
       "  </thead>\n",
       "  <tbody>\n",
       "    <tr>\n",
       "      <th>125</th>\n",
       "      <td>2006</td>\n",
       "      <td>1</td>\n",
       "      <td>130658</td>\n",
       "      <td>2006-01-01</td>\n",
       "    </tr>\n",
       "    <tr>\n",
       "      <th>126</th>\n",
       "      <td>2006</td>\n",
       "      <td>2</td>\n",
       "      <td>133788</td>\n",
       "      <td>2006-02-01</td>\n",
       "    </tr>\n",
       "    <tr>\n",
       "      <th>127</th>\n",
       "      <td>2006</td>\n",
       "      <td>3</td>\n",
       "      <td>164052</td>\n",
       "      <td>2006-03-01</td>\n",
       "    </tr>\n",
       "    <tr>\n",
       "      <th>128</th>\n",
       "      <td>2006</td>\n",
       "      <td>4</td>\n",
       "      <td>61715</td>\n",
       "      <td>2006-04-01</td>\n",
       "    </tr>\n",
       "    <tr>\n",
       "      <th>129</th>\n",
       "      <td>2006</td>\n",
       "      <td>5</td>\n",
       "      <td>104536</td>\n",
       "      <td>2006-05-01</td>\n",
       "    </tr>\n",
       "    <tr>\n",
       "      <th>130</th>\n",
       "      <td>2006</td>\n",
       "      <td>6</td>\n",
       "      <td>112454</td>\n",
       "      <td>2006-06-01</td>\n",
       "    </tr>\n",
       "    <tr>\n",
       "      <th>131</th>\n",
       "      <td>2006</td>\n",
       "      <td>7</td>\n",
       "      <td>132885</td>\n",
       "      <td>2006-07-01</td>\n",
       "    </tr>\n",
       "    <tr>\n",
       "      <th>132</th>\n",
       "      <td>2006</td>\n",
       "      <td>8</td>\n",
       "      <td>131971</td>\n",
       "      <td>2006-08-01</td>\n",
       "    </tr>\n",
       "    <tr>\n",
       "      <th>133</th>\n",
       "      <td>2006</td>\n",
       "      <td>9</td>\n",
       "      <td>82098</td>\n",
       "      <td>2006-09-01</td>\n",
       "    </tr>\n",
       "    <tr>\n",
       "      <th>134</th>\n",
       "      <td>2006</td>\n",
       "      <td>10</td>\n",
       "      <td>83790</td>\n",
       "      <td>2006-10-01</td>\n",
       "    </tr>\n",
       "  </tbody>\n",
       "</table>\n",
       "</div>"
      ],
      "text/plain": [
       "     year  month   count year-month\n",
       "125  2006      1  130658 2006-01-01\n",
       "126  2006      2  133788 2006-02-01\n",
       "127  2006      3  164052 2006-03-01\n",
       "128  2006      4   61715 2006-04-01\n",
       "129  2006      5  104536 2006-05-01\n",
       "130  2006      6  112454 2006-06-01\n",
       "131  2006      7  132885 2006-07-01\n",
       "132  2006      8  131971 2006-08-01\n",
       "133  2006      9   82098 2006-09-01\n",
       "134  2006     10   83790 2006-10-01"
      ]
     },
     "execution_count": 148,
     "metadata": {},
     "output_type": "execute_result"
    }
   ],
   "source": [
    "ten_year_reviews.head(10)"
   ]
  },
  {
   "cell_type": "code",
   "execution_count": 150,
   "metadata": {},
   "outputs": [
    {
     "data": {
      "image/png": "[encoded data removed]",
      "text/plain": [
       "<Figure size 432x288 with 1 Axes>"
      ]
     },
     "metadata": {
      "needs_background": "light"
     },
     "output_type": "display_data"
    }
   ],
   "source": [
    "# plot\n",
    "import matplotlib.pyplot as plt\n",
    "\n",
    "ax = plt.gca()\n",
    "\n",
    "ten_year_reviews.plot(kind='line',x='year-month',y='count',ax=ax)\n",
    "\n",
    "plt.show()"
   ]
  },
  {
   "cell_type": "markdown",
   "metadata": {},
   "source": [
    "#### Part b: Verified Purchase Reviews in 10 years (2006-2015)"
   ]
  },
  {
   "cell_type": "code",
   "execution_count": 151,
   "metadata": {},
   "outputs": [],
   "source": [
    "# aggreagate verified_purchase\n",
    "us_reviews_verified = us_reviews.groupBy(\"year\",\"month\",\"verified_purchase\").agg(F.count(\"*\").alias(\"vcount\")).orderBy(\"year\",\"month\",\"verified_purchase\")"
   ]
  },
  {
   "cell_type": "code",
   "execution_count": 152,
   "metadata": {},
   "outputs": [
    {
     "name": "stderr",
     "output_type": "stream",
     "text": [
      "/home/hadoop/miniconda/lib/python3.6/site-packages/pyarrow/pandas_compat.py:752: FutureWarning: .labels was deprecated in version 0.24.0. Use .codes instead.\n",
      "  labels, = index.labels\n"
     ]
    }
   ],
   "source": [
    "# convert to pandas\n",
    "verified_review = us_reviews_verified.toPandas()"
   ]
  },
  {
   "cell_type": "code",
   "execution_count": 153,
   "metadata": {},
   "outputs": [
    {
     "data": {
      "text/html": [
       "<div>\n",
       "<style scoped>\n",
       "    .dataframe tbody tr th:only-of-type {\n",
       "        vertical-align: middle;\n",
       "    }\n",
       "\n",
       "    .dataframe tbody tr th {\n",
       "        vertical-align: top;\n",
       "    }\n",
       "\n",
       "    .dataframe thead th {\n",
       "        text-align: right;\n",
       "    }\n",
       "</style>\n",
       "<table border=\"1\" class=\"dataframe\">\n",
       "  <thead>\n",
       "    <tr style=\"text-align: right;\">\n",
       "      <th></th>\n",
       "      <th>year</th>\n",
       "      <th>month</th>\n",
       "      <th>verified_purchase</th>\n",
       "      <th>vcount</th>\n",
       "    </tr>\n",
       "  </thead>\n",
       "  <tbody>\n",
       "    <tr>\n",
       "      <th>0</th>\n",
       "      <td>1995</td>\n",
       "      <td>6</td>\n",
       "      <td>N</td>\n",
       "      <td>2</td>\n",
       "    </tr>\n",
       "    <tr>\n",
       "      <th>1</th>\n",
       "      <td>1995</td>\n",
       "      <td>7</td>\n",
       "      <td>N</td>\n",
       "      <td>23</td>\n",
       "    </tr>\n",
       "    <tr>\n",
       "      <th>2</th>\n",
       "      <td>1995</td>\n",
       "      <td>8</td>\n",
       "      <td>N</td>\n",
       "      <td>22</td>\n",
       "    </tr>\n",
       "    <tr>\n",
       "      <th>3</th>\n",
       "      <td>1995</td>\n",
       "      <td>9</td>\n",
       "      <td>N</td>\n",
       "      <td>28</td>\n",
       "    </tr>\n",
       "    <tr>\n",
       "      <th>4</th>\n",
       "      <td>1995</td>\n",
       "      <td>10</td>\n",
       "      <td>N</td>\n",
       "      <td>46</td>\n",
       "    </tr>\n",
       "  </tbody>\n",
       "</table>\n",
       "</div>"
      ],
      "text/plain": [
       "   year  month verified_purchase  vcount\n",
       "0  1995      6                 N       2\n",
       "1  1995      7                 N      23\n",
       "2  1995      8                 N      22\n",
       "3  1995      9                 N      28\n",
       "4  1995     10                 N      46"
      ]
     },
     "execution_count": 153,
     "metadata": {},
     "output_type": "execute_result"
    }
   ],
   "source": [
    "# show first lines of the data\n",
    "verified_review.head()"
   ]
  },
  {
   "cell_type": "code",
   "execution_count": 154,
   "metadata": {},
   "outputs": [],
   "source": [
    "# count total verified purchase reviews by month and year\n",
    "verified_review2 = verified_review.groupby([\"year\", \"month\"], sort=False)[\"vcount\"].sum().reset_index(name ='Total_Amount')"
   ]
  },
  {
   "cell_type": "code",
   "execution_count": 155,
   "metadata": {},
   "outputs": [],
   "source": [
    "# merge datasets\n",
    "verified_total = pd.merge(verified_review, verified_review2, on=['year', 'month'], how='inner')"
   ]
  },
  {
   "cell_type": "code",
   "execution_count": 156,
   "metadata": {},
   "outputs": [],
   "source": [
    "# calculate the percentage of verified purchase reviews\n",
    "verified_total['verified_percentage'] = verified_total.apply (lambda row: row.vcount/row.Total_Amount, axis=1)"
   ]
  },
  {
   "cell_type": "code",
   "execution_count": 157,
   "metadata": {},
   "outputs": [],
   "source": [
    "# create year-month colunmn\n",
    "verified_total['year-month'] = pd.to_datetime(verified_total[['year', 'month']].assign(Day=1))"
   ]
  },
  {
   "cell_type": "code",
   "execution_count": 158,
   "metadata": {},
   "outputs": [],
   "source": [
    "# subset verified purchase for 2006-2015\n",
    "verified_total_Y = verified_total[(verified_total[\"year\"]>= 2006)&(verified_total[\"year\"]<= 2015)&(verified_total[\"verified_purchase\"] == \"Y\")]"
   ]
  },
  {
   "cell_type": "code",
   "execution_count": 159,
   "metadata": {},
   "outputs": [
    {
     "data": {
      "image/png": "[encoded data removed]",
      "text/plain": [
       "<Figure size 432x288 with 1 Axes>"
      ]
     },
     "metadata": {
      "needs_background": "light"
     },
     "output_type": "display_data"
    }
   ],
   "source": [
    "# gca stands for 'get current axis'\n",
    "ax = plt.gca()\n",
    "\n",
    "verified_total_Y.plot(kind='line',x='year-month',y='vcount',ax=ax)\n",
    "\n",
    "plt.show()"
   ]
  },
  {
   "cell_type": "markdown",
   "metadata": {},
   "source": [
    "#### Part c: Rating Difference Between Verified Purchase and Non-verified Purchase in 10 years (2006-2015)"
   ]
  },
  {
   "cell_type": "code",
   "execution_count": 162,
   "metadata": {},
   "outputs": [],
   "source": [
    "# count total review and average rating for verified purchase and non-verified pruchase\n",
    "verified_rating = spark.sql(\"\"\"select verified_purchase, avg(star_rating), count(*) as count\n",
    "from ustbl\n",
    "where year > 2005\n",
    "group by verified_purchase\n",
    "order by count\n",
    "\"\"\").toPandas()"
   ]
  },
  {
   "cell_type": "code",
   "execution_count": 163,
   "metadata": {},
   "outputs": [
    {
     "data": {
      "text/html": [
       "<div>\n",
       "<style scoped>\n",
       "    .dataframe tbody tr th:only-of-type {\n",
       "        vertical-align: middle;\n",
       "    }\n",
       "\n",
       "    .dataframe tbody tr th {\n",
       "        vertical-align: top;\n",
       "    }\n",
       "\n",
       "    .dataframe thead th {\n",
       "        text-align: right;\n",
       "    }\n",
       "</style>\n",
       "<table border=\"1\" class=\"dataframe\">\n",
       "  <thead>\n",
       "    <tr style=\"text-align: right;\">\n",
       "      <th></th>\n",
       "      <th>verified_purchase</th>\n",
       "      <th>avg(star_rating)</th>\n",
       "      <th>count</th>\n",
       "    </tr>\n",
       "  </thead>\n",
       "  <tbody>\n",
       "    <tr>\n",
       "      <th>0</th>\n",
       "      <td>N</td>\n",
       "      <td>4.093262</td>\n",
       "      <td>28389513</td>\n",
       "    </tr>\n",
       "    <tr>\n",
       "      <th>1</th>\n",
       "      <td>Y</td>\n",
       "      <td>4.233208</td>\n",
       "      <td>122207606</td>\n",
       "    </tr>\n",
       "  </tbody>\n",
       "</table>\n",
       "</div>"
      ],
      "text/plain": [
       "  verified_purchase  avg(star_rating)      count\n",
       "0                 N          4.093262   28389513\n",
       "1                 Y          4.233208  122207606"
      ]
     },
     "execution_count": 163,
     "metadata": {},
     "output_type": "execute_result"
    }
   ],
   "source": [
    "verified_rating"
   ]
  },
  {
   "cell_type": "code",
   "execution_count": 164,
   "metadata": {},
   "outputs": [
    {
     "data": {
      "text/plain": [
       "<matplotlib.axes._subplots.AxesSubplot at 0x7fb1767ccf60>"
      ]
     },
     "execution_count": 164,
     "metadata": {},
     "output_type": "execute_result"
    },
    {
     "data": {
      "image/png": "[encoded data removed]",
      "text/plain": [
       "<Figure size 432x288 with 1 Axes>"
      ]
     },
     "metadata": {
      "needs_background": "light"
     },
     "output_type": "display_data"
    }
   ],
   "source": [
    "# a simple bar plot\n",
    "verified_rating.plot(kind='bar',x='verified_purchase',y='count')"
   ]
  },
  {
   "cell_type": "markdown",
   "metadata": {},
   "source": [
    "#### Part d: Vine Program Purchase Reviews in 10 years (2006-2015)"
   ]
  },
  {
   "cell_type": "code",
   "execution_count": 165,
   "metadata": {},
   "outputs": [],
   "source": [
    "# aggreagate vine_purchase\n",
    "us_reviews_vine = us_reviews.groupBy(\"year\",\"month\",\"vine\").agg(F.count(\"*\").alias(\"vcount\")).orderBy(\"year\",\"month\",\"vine\").toPandas()"
   ]
  },
  {
   "cell_type": "code",
   "execution_count": 166,
   "metadata": {},
   "outputs": [],
   "source": [
    "# count total vine purchase reviews by month and year\n",
    "vine_review = us_reviews_vine.groupby([\"year\", \"month\"], sort=False)[\"vcount\"].sum().reset_index(name ='Total_Amount')"
   ]
  },
  {
   "cell_type": "code",
   "execution_count": 167,
   "metadata": {},
   "outputs": [],
   "source": [
    "# merge datasets\n",
    "vine_total = pd.merge(us_reviews_vine, vine_review, on=['year', 'month'], how='inner')"
   ]
  },
  {
   "cell_type": "code",
   "execution_count": 168,
   "metadata": {},
   "outputs": [],
   "source": [
    "# calculate the percentage of vine purchase reviews and create year-month column\n",
    "vine_total['vine_percentage'] = verified_total.apply (lambda row: row.vcount/row.Total_Amount, axis=1)\n",
    "vine_total['year-month'] = pd.to_datetime(verified_total[['year', 'month']].assign(Day=1))"
   ]
  },
  {
   "cell_type": "code",
   "execution_count": 169,
   "metadata": {},
   "outputs": [],
   "source": [
    "# subset vine purchase for 2006-2015\n",
    "vine_total_Y = vine_total[(vine_total[\"year\"]>= 2006)&(vine_total[\"year\"]<= 2015)&(vine_total[\"vine\"] == \"Y\")]"
   ]
  },
  {
   "cell_type": "code",
   "execution_count": 170,
   "metadata": {},
   "outputs": [
    {
     "data": {
      "image/png": "[encoded data removed]",
      "text/plain": [
       "<Figure size 432x288 with 1 Axes>"
      ]
     },
     "metadata": {
      "needs_background": "light"
     },
     "output_type": "display_data"
    }
   ],
   "source": [
    "# gca stands for 'get current axis'\n",
    "ax = plt.gca()\n",
    "\n",
    "vine_total_Y.plot(kind='line',x='year-month',y='Total_Amount',ax=ax)\n",
    "\n",
    "plt.show()"
   ]
  },
  {
   "cell_type": "markdown",
   "metadata": {},
   "source": [
    "#### Part e: Rating Difference Between Vine Purchase and Non-vine Purchase in 10 years (2006-2015)"
   ]
  },
  {
   "cell_type": "code",
   "execution_count": 171,
   "metadata": {},
   "outputs": [],
   "source": [
    "# count total review and average rating for vine purchase and non-vine pruchase\n",
    "vine_rating = spark.sql(\"\"\"select vine, avg(star_rating), count(*) as count\n",
    "from ustbl\n",
    "where year > 2005\n",
    "group by vine\n",
    "order by count\n",
    "\"\"\").toPandas()"
   ]
  },
  {
   "cell_type": "code",
   "execution_count": 172,
   "metadata": {},
   "outputs": [
    {
     "data": {
      "text/html": [
       "<div>\n",
       "<style scoped>\n",
       "    .dataframe tbody tr th:only-of-type {\n",
       "        vertical-align: middle;\n",
       "    }\n",
       "\n",
       "    .dataframe tbody tr th {\n",
       "        vertical-align: top;\n",
       "    }\n",
       "\n",
       "    .dataframe thead th {\n",
       "        text-align: right;\n",
       "    }\n",
       "</style>\n",
       "<table border=\"1\" class=\"dataframe\">\n",
       "  <thead>\n",
       "    <tr style=\"text-align: right;\">\n",
       "      <th></th>\n",
       "      <th>vine</th>\n",
       "      <th>avg(star_rating)</th>\n",
       "      <th>count</th>\n",
       "    </tr>\n",
       "  </thead>\n",
       "  <tbody>\n",
       "    <tr>\n",
       "      <th>0</th>\n",
       "      <td>Y</td>\n",
       "      <td>4.083618</td>\n",
       "      <td>673205</td>\n",
       "    </tr>\n",
       "    <tr>\n",
       "      <th>1</th>\n",
       "      <td>N</td>\n",
       "      <td>4.207380</td>\n",
       "      <td>149923914</td>\n",
       "    </tr>\n",
       "  </tbody>\n",
       "</table>\n",
       "</div>"
      ],
      "text/plain": [
       "  vine  avg(star_rating)      count\n",
       "0    Y          4.083618     673205\n",
       "1    N          4.207380  149923914"
      ]
     },
     "execution_count": 172,
     "metadata": {},
     "output_type": "execute_result"
    }
   ],
   "source": [
    "vine_rating"
   ]
  },
  {
   "cell_type": "code",
   "execution_count": 173,
   "metadata": {},
   "outputs": [
    {
     "data": {
      "text/plain": [
       "<matplotlib.axes._subplots.AxesSubplot at 0x7fb17668afd0>"
      ]
     },
     "execution_count": 173,
     "metadata": {},
     "output_type": "execute_result"
    },
    {
     "data": {
      "image/png": "[encoded data removed]",
      "text/plain": [
       "<Figure size 432x288 with 1 Axes>"
      ]
     },
     "metadata": {
      "needs_background": "light"
     },
     "output_type": "display_data"
    }
   ],
   "source": [
    "# a simple bar plot\n",
    "vine_rating.plot(kind='bar',x='vine',y='count')"
   ]
  },
  {
   "cell_type": "markdown",
   "metadata": {},
   "source": [
    "#### Part f: Top 10 Categories with Most Reviews in 10 years (2006-2015)"
   ]
  },
  {
   "cell_type": "code",
   "execution_count": 176,
   "metadata": {},
   "outputs": [],
   "source": [
    "# Count reviews by category\n",
    "top_review = us_reviews.filter('year > 2005').groupBy(\"product_category\").count().sort(col(\"count\").desc()).toPandas()"
   ]
  },
  {
   "cell_type": "code",
   "execution_count": 177,
   "metadata": {},
   "outputs": [],
   "source": [
    "# find top 10 category\n",
    "top10_category_review = top_review.head(10)"
   ]
  },
  {
   "cell_type": "code",
   "execution_count": 178,
   "metadata": {},
   "outputs": [
    {
     "data": {
      "text/html": [
       "<div>\n",
       "<style scoped>\n",
       "    .dataframe tbody tr th:only-of-type {\n",
       "        vertical-align: middle;\n",
       "    }\n",
       "\n",
       "    .dataframe tbody tr th {\n",
       "        vertical-align: top;\n",
       "    }\n",
       "\n",
       "    .dataframe thead th {\n",
       "        text-align: right;\n",
       "    }\n",
       "</style>\n",
       "<table border=\"1\" class=\"dataframe\">\n",
       "  <thead>\n",
       "    <tr style=\"text-align: right;\">\n",
       "      <th></th>\n",
       "      <th>product_category</th>\n",
       "      <th>count</th>\n",
       "    </tr>\n",
       "  </thead>\n",
       "  <tbody>\n",
       "    <tr>\n",
       "      <th>0</th>\n",
       "      <td>Digital_Ebook_Purchase</td>\n",
       "      <td>18871248</td>\n",
       "    </tr>\n",
       "    <tr>\n",
       "      <th>1</th>\n",
       "      <td>Books</td>\n",
       "      <td>17046413</td>\n",
       "    </tr>\n",
       "    <tr>\n",
       "      <th>2</th>\n",
       "      <td>Wireless</td>\n",
       "      <td>9001657</td>\n",
       "    </tr>\n",
       "    <tr>\n",
       "      <th>3</th>\n",
       "      <td>PC</td>\n",
       "      <td>6898971</td>\n",
       "    </tr>\n",
       "    <tr>\n",
       "      <th>4</th>\n",
       "      <td>Mobile_Apps</td>\n",
       "      <td>6507959</td>\n",
       "    </tr>\n",
       "    <tr>\n",
       "      <th>5</th>\n",
       "      <td>Home</td>\n",
       "      <td>6196626</td>\n",
       "    </tr>\n",
       "    <tr>\n",
       "      <th>6</th>\n",
       "      <td>Apparel</td>\n",
       "      <td>5897500</td>\n",
       "    </tr>\n",
       "    <tr>\n",
       "      <th>7</th>\n",
       "      <td>Video_DVD</td>\n",
       "      <td>5358907</td>\n",
       "    </tr>\n",
       "    <tr>\n",
       "      <th>8</th>\n",
       "      <td>Health_&amp;_Personal_Care</td>\n",
       "      <td>5319835</td>\n",
       "    </tr>\n",
       "    <tr>\n",
       "      <th>9</th>\n",
       "      <td>Digital_Video_Download</td>\n",
       "      <td>5115209</td>\n",
       "    </tr>\n",
       "  </tbody>\n",
       "</table>\n",
       "</div>"
      ],
      "text/plain": [
       "         product_category     count\n",
       "0  Digital_Ebook_Purchase  18871248\n",
       "1                   Books  17046413\n",
       "2                Wireless   9001657\n",
       "3                      PC   6898971\n",
       "4             Mobile_Apps   6507959\n",
       "5                    Home   6196626\n",
       "6                 Apparel   5897500\n",
       "7               Video_DVD   5358907\n",
       "8  Health_&_Personal_Care   5319835\n",
       "9  Digital_Video_Download   5115209"
      ]
     },
     "execution_count": 178,
     "metadata": {},
     "output_type": "execute_result"
    }
   ],
   "source": [
    "top10_category_review"
   ]
  },
  {
   "cell_type": "code",
   "execution_count": 179,
   "metadata": {},
   "outputs": [
    {
     "data": {
      "text/plain": [
       "<matplotlib.axes._subplots.AxesSubplot at 0x7fb1767cc320>"
      ]
     },
     "execution_count": 179,
     "metadata": {},
     "output_type": "execute_result"
    },
    {
     "data": {
      "image/png": "[encoded data removed]",
      "text/plain": [
       "<Figure size 432x288 with 1 Axes>"
      ]
     },
     "metadata": {
      "needs_background": "light"
     },
     "output_type": "display_data"
    }
   ],
   "source": [
    "# a simple bar plot\n",
    "top10_category_review.plot(kind='bar',x='product_category',y='count')"
   ]
  },
  {
   "cell_type": "markdown",
   "metadata": {},
   "source": [
    "## Part 2: Books Category Exploration"
   ]
  },
  {
   "cell_type": "markdown",
   "metadata": {},
   "source": [
    "### Part a: Most Review Amount Books"
   ]
  },
  {
   "cell_type": "markdown",
   "metadata": {},
   "source": [
    "#### Top 10 Reviews books in last 10 years (2006-2015)"
   ]
  },
  {
   "cell_type": "code",
   "execution_count": 73,
   "metadata": {},
   "outputs": [
    {
     "data": {
      "text/html": [
       "<div>\n",
       "<style scoped>\n",
       "    .dataframe tbody tr th:only-of-type {\n",
       "        vertical-align: middle;\n",
       "    }\n",
       "\n",
       "    .dataframe tbody tr th {\n",
       "        vertical-align: top;\n",
       "    }\n",
       "\n",
       "    .dataframe thead th {\n",
       "        text-align: right;\n",
       "    }\n",
       "</style>\n",
       "<table border=\"1\" class=\"dataframe\">\n",
       "  <thead>\n",
       "    <tr style=\"text-align: right;\">\n",
       "      <th></th>\n",
       "      <th>product_title</th>\n",
       "      <th>review_num</th>\n",
       "    </tr>\n",
       "  </thead>\n",
       "  <tbody>\n",
       "    <tr>\n",
       "      <th>0</th>\n",
       "      <td>Fifty Shades of Grey: Book One of the Fifty Shades Trilogy (Fifty Shades of Grey Series)</td>\n",
       "      <td>18224</td>\n",
       "    </tr>\n",
       "    <tr>\n",
       "      <th>1</th>\n",
       "      <td>Gone Girl</td>\n",
       "      <td>11836</td>\n",
       "    </tr>\n",
       "    <tr>\n",
       "      <th>2</th>\n",
       "      <td>The Fault in Our Stars</td>\n",
       "      <td>10666</td>\n",
       "    </tr>\n",
       "    <tr>\n",
       "      <th>3</th>\n",
       "      <td>Breaking Dawn (The Twilight Saga, Book 4)</td>\n",
       "      <td>10450</td>\n",
       "    </tr>\n",
       "    <tr>\n",
       "      <th>4</th>\n",
       "      <td>Fifty Shades Trilogy (Fifty Shades of Grey / Fifty Shades Darker / Fifty Shades Freed)</td>\n",
       "      <td>10274</td>\n",
       "    </tr>\n",
       "    <tr>\n",
       "      <th>5</th>\n",
       "      <td>Proof of Heaven: A Neurosurgeon's Journey into the Afterlife</td>\n",
       "      <td>8794</td>\n",
       "    </tr>\n",
       "    <tr>\n",
       "      <th>6</th>\n",
       "      <td>Mockingjay (The Hunger Games)</td>\n",
       "      <td>7602</td>\n",
       "    </tr>\n",
       "    <tr>\n",
       "      <th>7</th>\n",
       "      <td>The Hunger Games (Book 1)</td>\n",
       "      <td>7336</td>\n",
       "    </tr>\n",
       "    <tr>\n",
       "      <th>8</th>\n",
       "      <td>The Secret</td>\n",
       "      <td>7087</td>\n",
       "    </tr>\n",
       "    <tr>\n",
       "      <th>9</th>\n",
       "      <td>The Book Thief</td>\n",
       "      <td>6971</td>\n",
       "    </tr>\n",
       "  </tbody>\n",
       "</table>\n",
       "</div>"
      ],
      "text/plain": [
       "                                                                              product_title  \\\n",
       "0  Fifty Shades of Grey: Book One of the Fifty Shades Trilogy (Fifty Shades of Grey Series)   \n",
       "1                                                                                 Gone Girl   \n",
       "2                                                                    The Fault in Our Stars   \n",
       "3                                                 Breaking Dawn (The Twilight Saga, Book 4)   \n",
       "4    Fifty Shades Trilogy (Fifty Shades of Grey / Fifty Shades Darker / Fifty Shades Freed)   \n",
       "5                              Proof of Heaven: A Neurosurgeon's Journey into the Afterlife   \n",
       "6                                                             Mockingjay (The Hunger Games)   \n",
       "7                                                                 The Hunger Games (Book 1)   \n",
       "8                                                                                The Secret   \n",
       "9                                                                            The Book Thief   \n",
       "\n",
       "   review_num  \n",
       "0       18224  \n",
       "1       11836  \n",
       "2       10666  \n",
       "3       10450  \n",
       "4       10274  \n",
       "5        8794  \n",
       "6        7602  \n",
       "7        7336  \n",
       "8        7087  \n",
       "9        6971  "
      ]
     },
     "execution_count": 73,
     "metadata": {},
     "output_type": "execute_result"
    }
   ],
   "source": [
    "# select books with top 10 review amount\n",
    "spark.sql(\n",
    "    \"\"\"select product_title, count(*) as review_num from ustbl \n",
    "    where product_category = 'Books' and year > 2005\n",
    "    group by product_title\n",
    "    order by review_num DESC\n",
    "    limit 10\"\"\").toPandas()"
   ]
  },
  {
   "cell_type": "markdown",
   "metadata": {},
   "source": [
    "#### Top 5 review books for each year from 2006 to 2015"
   ]
  },
  {
   "cell_type": "code",
   "execution_count": 75,
   "metadata": {},
   "outputs": [
    {
     "data": {
      "text/html": [
       "<div>\n",
       "<style scoped>\n",
       "    .dataframe tbody tr th:only-of-type {\n",
       "        vertical-align: middle;\n",
       "    }\n",
       "\n",
       "    .dataframe tbody tr th {\n",
       "        vertical-align: top;\n",
       "    }\n",
       "\n",
       "    .dataframe thead th {\n",
       "        text-align: right;\n",
       "    }\n",
       "</style>\n",
       "<table border=\"1\" class=\"dataframe\">\n",
       "  <thead>\n",
       "    <tr style=\"text-align: right;\">\n",
       "      <th></th>\n",
       "      <th>product_title</th>\n",
       "      <th>review_num</th>\n",
       "    </tr>\n",
       "  </thead>\n",
       "  <tbody>\n",
       "    <tr>\n",
       "      <th>0</th>\n",
       "      <td>A Million Little Pieces</td>\n",
       "      <td>1798</td>\n",
       "    </tr>\n",
       "    <tr>\n",
       "      <th>1</th>\n",
       "      <td>The Da Vinci Code</td>\n",
       "      <td>833</td>\n",
       "    </tr>\n",
       "    <tr>\n",
       "      <th>2</th>\n",
       "      <td>Marley &amp; Me: Life and Love with the World's Worst Dog</td>\n",
       "      <td>774</td>\n",
       "    </tr>\n",
       "    <tr>\n",
       "      <th>3</th>\n",
       "      <td>Godless: The Church of Liberalism</td>\n",
       "      <td>752</td>\n",
       "    </tr>\n",
       "    <tr>\n",
       "      <th>4</th>\n",
       "      <td>Cell: A Novel</td>\n",
       "      <td>615</td>\n",
       "    </tr>\n",
       "  </tbody>\n",
       "</table>\n",
       "</div>"
      ],
      "text/plain": [
       "                                           product_title  review_num\n",
       "0                                A Million Little Pieces        1798\n",
       "1                                      The Da Vinci Code         833\n",
       "2  Marley & Me: Life and Love with the World's Worst Dog         774\n",
       "3                      Godless: The Church of Liberalism         752\n",
       "4                                          Cell: A Novel         615"
      ]
     },
     "execution_count": 75,
     "metadata": {},
     "output_type": "execute_result"
    }
   ],
   "source": [
    "spark.sql(\n",
    "    \"\"\"select product_title, count(*) as review_num from ustbl \n",
    "    where product_category = 'Books' and year = 2006\n",
    "    group by product_title\n",
    "    order by review_num DESC\n",
    "    limit 5\"\"\").toPandas()"
   ]
  },
  {
   "cell_type": "code",
   "execution_count": 76,
   "metadata": {},
   "outputs": [
    {
     "data": {
      "text/html": [
       "<div>\n",
       "<style scoped>\n",
       "    .dataframe tbody tr th:only-of-type {\n",
       "        vertical-align: middle;\n",
       "    }\n",
       "\n",
       "    .dataframe tbody tr th {\n",
       "        vertical-align: top;\n",
       "    }\n",
       "\n",
       "    .dataframe thead th {\n",
       "        text-align: right;\n",
       "    }\n",
       "</style>\n",
       "<table border=\"1\" class=\"dataframe\">\n",
       "  <thead>\n",
       "    <tr style=\"text-align: right;\">\n",
       "      <th></th>\n",
       "      <th>product_title</th>\n",
       "      <th>review_num</th>\n",
       "    </tr>\n",
       "  </thead>\n",
       "  <tbody>\n",
       "    <tr>\n",
       "      <th>0</th>\n",
       "      <td>The Secret</td>\n",
       "      <td>2828</td>\n",
       "    </tr>\n",
       "    <tr>\n",
       "      <th>1</th>\n",
       "      <td>Harry Potter and the Deathly Hallows (Book 7)</td>\n",
       "      <td>2593</td>\n",
       "    </tr>\n",
       "    <tr>\n",
       "      <th>2</th>\n",
       "      <td>A Thousand Splendid Suns</td>\n",
       "      <td>1732</td>\n",
       "    </tr>\n",
       "    <tr>\n",
       "      <th>3</th>\n",
       "      <td>The God Delusion</td>\n",
       "      <td>1314</td>\n",
       "    </tr>\n",
       "    <tr>\n",
       "      <th>4</th>\n",
       "      <td>Eat, Pray, Love: One Woman's Search for Everything Across Italy, India and Indonesia</td>\n",
       "      <td>1284</td>\n",
       "    </tr>\n",
       "  </tbody>\n",
       "</table>\n",
       "</div>"
      ],
      "text/plain": [
       "                                                                          product_title  \\\n",
       "0                                                                            The Secret   \n",
       "1                                         Harry Potter and the Deathly Hallows (Book 7)   \n",
       "2                                                              A Thousand Splendid Suns   \n",
       "3                                                                      The God Delusion   \n",
       "4  Eat, Pray, Love: One Woman's Search for Everything Across Italy, India and Indonesia   \n",
       "\n",
       "   review_num  \n",
       "0        2828  \n",
       "1        2593  \n",
       "2        1732  \n",
       "3        1314  \n",
       "4        1284  "
      ]
     },
     "execution_count": 76,
     "metadata": {},
     "output_type": "execute_result"
    }
   ],
   "source": [
    "spark.sql(\n",
    "    \"\"\"select product_title, count(*) as review_num from ustbl \n",
    "    where product_category = 'Books' and year = 2007\n",
    "    group by product_title\n",
    "    order by review_num DESC\n",
    "    limit 5\"\"\").toPandas()"
   ]
  },
  {
   "cell_type": "code",
   "execution_count": 77,
   "metadata": {},
   "outputs": [
    {
     "data": {
      "text/html": [
       "<div>\n",
       "<style scoped>\n",
       "    .dataframe tbody tr th:only-of-type {\n",
       "        vertical-align: middle;\n",
       "    }\n",
       "\n",
       "    .dataframe tbody tr th {\n",
       "        vertical-align: top;\n",
       "    }\n",
       "\n",
       "    .dataframe thead th {\n",
       "        text-align: right;\n",
       "    }\n",
       "</style>\n",
       "<table border=\"1\" class=\"dataframe\">\n",
       "  <thead>\n",
       "    <tr style=\"text-align: right;\">\n",
       "      <th></th>\n",
       "      <th>product_title</th>\n",
       "      <th>review_num</th>\n",
       "    </tr>\n",
       "  </thead>\n",
       "  <tbody>\n",
       "    <tr>\n",
       "      <th>0</th>\n",
       "      <td>Breaking Dawn (The Twilight Saga, Book 4)</td>\n",
       "      <td>6552</td>\n",
       "    </tr>\n",
       "    <tr>\n",
       "      <th>1</th>\n",
       "      <td>A New Earth: Awakening to Your Life's Purpose (Oprah's Book Club, Selection 61)</td>\n",
       "      <td>1892</td>\n",
       "    </tr>\n",
       "    <tr>\n",
       "      <th>2</th>\n",
       "      <td>The Shack: Where Tragedy Confronts Eternity</td>\n",
       "      <td>1743</td>\n",
       "    </tr>\n",
       "    <tr>\n",
       "      <th>3</th>\n",
       "      <td>Eat, Pray, Love: One Woman's Search for Everything Across Italy, India and Indonesia</td>\n",
       "      <td>1600</td>\n",
       "    </tr>\n",
       "    <tr>\n",
       "      <th>4</th>\n",
       "      <td>Twilight (The Twilight Saga, Book 1)</td>\n",
       "      <td>1479</td>\n",
       "    </tr>\n",
       "  </tbody>\n",
       "</table>\n",
       "</div>"
      ],
      "text/plain": [
       "                                                                          product_title  \\\n",
       "0                                             Breaking Dawn (The Twilight Saga, Book 4)   \n",
       "1       A New Earth: Awakening to Your Life's Purpose (Oprah's Book Club, Selection 61)   \n",
       "2                                           The Shack: Where Tragedy Confronts Eternity   \n",
       "3  Eat, Pray, Love: One Woman's Search for Everything Across Italy, India and Indonesia   \n",
       "4                                                  Twilight (The Twilight Saga, Book 1)   \n",
       "\n",
       "   review_num  \n",
       "0        6552  \n",
       "1        1892  \n",
       "2        1743  \n",
       "3        1600  \n",
       "4        1479  "
      ]
     },
     "execution_count": 77,
     "metadata": {},
     "output_type": "execute_result"
    }
   ],
   "source": [
    "spark.sql(\n",
    "    \"\"\"select product_title, count(*) as review_num from ustbl \n",
    "    where product_category = 'Books' and year = 2008\n",
    "    group by product_title\n",
    "    order by review_num DESC\n",
    "    limit 5\"\"\").toPandas()"
   ]
  },
  {
   "cell_type": "code",
   "execution_count": 78,
   "metadata": {},
   "outputs": [
    {
     "data": {
      "text/html": [
       "<div>\n",
       "<style scoped>\n",
       "    .dataframe tbody tr th:only-of-type {\n",
       "        vertical-align: middle;\n",
       "    }\n",
       "\n",
       "    .dataframe tbody tr th {\n",
       "        vertical-align: top;\n",
       "    }\n",
       "\n",
       "    .dataframe thead th {\n",
       "        text-align: right;\n",
       "    }\n",
       "</style>\n",
       "<table border=\"1\" class=\"dataframe\">\n",
       "  <thead>\n",
       "    <tr style=\"text-align: right;\">\n",
       "      <th></th>\n",
       "      <th>product_title</th>\n",
       "      <th>review_num</th>\n",
       "    </tr>\n",
       "  </thead>\n",
       "  <tbody>\n",
       "    <tr>\n",
       "      <th>0</th>\n",
       "      <td>The Lost Symbol</td>\n",
       "      <td>3256</td>\n",
       "    </tr>\n",
       "    <tr>\n",
       "      <th>1</th>\n",
       "      <td>Breaking Dawn (The Twilight Saga, Book 4)</td>\n",
       "      <td>2134</td>\n",
       "    </tr>\n",
       "    <tr>\n",
       "      <th>2</th>\n",
       "      <td>Liberty and Tyranny: A Conservative Manifesto</td>\n",
       "      <td>1950</td>\n",
       "    </tr>\n",
       "    <tr>\n",
       "      <th>3</th>\n",
       "      <td>The Shack: Where Tragedy Confronts Eternity</td>\n",
       "      <td>1556</td>\n",
       "    </tr>\n",
       "    <tr>\n",
       "      <th>4</th>\n",
       "      <td>The Twilight Saga Collection</td>\n",
       "      <td>1518</td>\n",
       "    </tr>\n",
       "  </tbody>\n",
       "</table>\n",
       "</div>"
      ],
      "text/plain": [
       "                                   product_title  review_num\n",
       "0                                The Lost Symbol        3256\n",
       "1      Breaking Dawn (The Twilight Saga, Book 4)        2134\n",
       "2  Liberty and Tyranny: A Conservative Manifesto        1950\n",
       "3    The Shack: Where Tragedy Confronts Eternity        1556\n",
       "4                   The Twilight Saga Collection        1518"
      ]
     },
     "execution_count": 78,
     "metadata": {},
     "output_type": "execute_result"
    }
   ],
   "source": [
    "spark.sql(\n",
    "    \"\"\"select product_title, count(*) as review_num from ustbl \n",
    "    where product_category = 'Books' and year = 2009\n",
    "    group by product_title\n",
    "    order by review_num DESC\n",
    "    limit 5\"\"\").toPandas()"
   ]
  },
  {
   "cell_type": "code",
   "execution_count": 79,
   "metadata": {},
   "outputs": [
    {
     "data": {
      "text/html": [
       "<div>\n",
       "<style scoped>\n",
       "    .dataframe tbody tr th:only-of-type {\n",
       "        vertical-align: middle;\n",
       "    }\n",
       "\n",
       "    .dataframe tbody tr th {\n",
       "        vertical-align: top;\n",
       "    }\n",
       "\n",
       "    .dataframe thead th {\n",
       "        text-align: right;\n",
       "    }\n",
       "</style>\n",
       "<table border=\"1\" class=\"dataframe\">\n",
       "  <thead>\n",
       "    <tr style=\"text-align: right;\">\n",
       "      <th></th>\n",
       "      <th>product_title</th>\n",
       "      <th>review_num</th>\n",
       "    </tr>\n",
       "  </thead>\n",
       "  <tbody>\n",
       "    <tr>\n",
       "      <th>0</th>\n",
       "      <td>The Girl with the Dragon Tattoo (Millennium Series)</td>\n",
       "      <td>2224</td>\n",
       "    </tr>\n",
       "    <tr>\n",
       "      <th>1</th>\n",
       "      <td>Mockingjay (The Hunger Games)</td>\n",
       "      <td>1568</td>\n",
       "    </tr>\n",
       "    <tr>\n",
       "      <th>2</th>\n",
       "      <td>The Girl Who Kicked the Hornet's Nest (Millennium Trilogy)</td>\n",
       "      <td>1202</td>\n",
       "    </tr>\n",
       "    <tr>\n",
       "      <th>3</th>\n",
       "      <td>The Help</td>\n",
       "      <td>1192</td>\n",
       "    </tr>\n",
       "    <tr>\n",
       "      <th>4</th>\n",
       "      <td>The 4-Hour Workweek: Escape 9-5, Live Anywhere, and Join the New Rich</td>\n",
       "      <td>1092</td>\n",
       "    </tr>\n",
       "  </tbody>\n",
       "</table>\n",
       "</div>"
      ],
      "text/plain": [
       "                                                           product_title  \\\n",
       "0                    The Girl with the Dragon Tattoo (Millennium Series)   \n",
       "1                                          Mockingjay (The Hunger Games)   \n",
       "2             The Girl Who Kicked the Hornet's Nest (Millennium Trilogy)   \n",
       "3                                                               The Help   \n",
       "4  The 4-Hour Workweek: Escape 9-5, Live Anywhere, and Join the New Rich   \n",
       "\n",
       "   review_num  \n",
       "0        2224  \n",
       "1        1568  \n",
       "2        1202  \n",
       "3        1192  \n",
       "4        1092  "
      ]
     },
     "execution_count": 79,
     "metadata": {},
     "output_type": "execute_result"
    }
   ],
   "source": [
    "spark.sql(\n",
    "    \"\"\"select product_title, count(*) as review_num from ustbl \n",
    "    where product_category = 'Books' and year = 2010\n",
    "    group by product_title\n",
    "    order by review_num DESC\n",
    "    limit 5\"\"\").toPandas()"
   ]
  },
  {
   "cell_type": "code",
   "execution_count": 80,
   "metadata": {},
   "outputs": [
    {
     "data": {
      "text/html": [
       "<div>\n",
       "<style scoped>\n",
       "    .dataframe tbody tr th:only-of-type {\n",
       "        vertical-align: middle;\n",
       "    }\n",
       "\n",
       "    .dataframe tbody tr th {\n",
       "        vertical-align: top;\n",
       "    }\n",
       "\n",
       "    .dataframe thead th {\n",
       "        text-align: right;\n",
       "    }\n",
       "</style>\n",
       "<table border=\"1\" class=\"dataframe\">\n",
       "  <thead>\n",
       "    <tr style=\"text-align: right;\">\n",
       "      <th></th>\n",
       "      <th>product_title</th>\n",
       "      <th>review_num</th>\n",
       "    </tr>\n",
       "  </thead>\n",
       "  <tbody>\n",
       "    <tr>\n",
       "      <th>0</th>\n",
       "      <td>The 4 Hour Body: An Uncommon Guide to Rapid Fat Loss, Incredible Sex and Becoming Superhuman</td>\n",
       "      <td>2326</td>\n",
       "    </tr>\n",
       "    <tr>\n",
       "      <th>1</th>\n",
       "      <td>A Dance with Dragons (A Song of Ice and Fire)</td>\n",
       "      <td>2306</td>\n",
       "    </tr>\n",
       "    <tr>\n",
       "      <th>2</th>\n",
       "      <td>Killing Lincoln: The Shocking Assassination that Changed America Forever (Bill O'Reilly's Killin...</td>\n",
       "      <td>2295</td>\n",
       "    </tr>\n",
       "    <tr>\n",
       "      <th>3</th>\n",
       "      <td>The Hunger Games (Book 1)</td>\n",
       "      <td>2041</td>\n",
       "    </tr>\n",
       "    <tr>\n",
       "      <th>4</th>\n",
       "      <td>Heaven is for Real: A Little Boy's Astounding Story of His Trip to Heaven and Back</td>\n",
       "      <td>1595</td>\n",
       "    </tr>\n",
       "  </tbody>\n",
       "</table>\n",
       "</div>"
      ],
      "text/plain": [
       "                                                                                         product_title  \\\n",
       "0         The 4 Hour Body: An Uncommon Guide to Rapid Fat Loss, Incredible Sex and Becoming Superhuman   \n",
       "1                                                        A Dance with Dragons (A Song of Ice and Fire)   \n",
       "2  Killing Lincoln: The Shocking Assassination that Changed America Forever (Bill O'Reilly's Killin...   \n",
       "3                                                                            The Hunger Games (Book 1)   \n",
       "4                   Heaven is for Real: A Little Boy's Astounding Story of His Trip to Heaven and Back   \n",
       "\n",
       "   review_num  \n",
       "0        2326  \n",
       "1        2306  \n",
       "2        2295  \n",
       "3        2041  \n",
       "4        1595  "
      ]
     },
     "execution_count": 80,
     "metadata": {},
     "output_type": "execute_result"
    }
   ],
   "source": [
    "spark.sql(\n",
    "    \"\"\"select product_title, count(*) as review_num from ustbl \n",
    "    where product_category = 'Books' and year = 2011\n",
    "    group by product_title\n",
    "    order by review_num DESC\n",
    "    limit 5\"\"\").toPandas()"
   ]
  },
  {
   "cell_type": "code",
   "execution_count": 81,
   "metadata": {},
   "outputs": [
    {
     "data": {
      "text/html": [
       "<div>\n",
       "<style scoped>\n",
       "    .dataframe tbody tr th:only-of-type {\n",
       "        vertical-align: middle;\n",
       "    }\n",
       "\n",
       "    .dataframe tbody tr th {\n",
       "        vertical-align: top;\n",
       "    }\n",
       "\n",
       "    .dataframe thead th {\n",
       "        text-align: right;\n",
       "    }\n",
       "</style>\n",
       "<table border=\"1\" class=\"dataframe\">\n",
       "  <thead>\n",
       "    <tr style=\"text-align: right;\">\n",
       "      <th></th>\n",
       "      <th>product_title</th>\n",
       "      <th>review_num</th>\n",
       "    </tr>\n",
       "  </thead>\n",
       "  <tbody>\n",
       "    <tr>\n",
       "      <th>0</th>\n",
       "      <td>Fifty Shades of Grey: Book One of the Fifty Shades Trilogy (Fifty Shades of Grey Series)</td>\n",
       "      <td>10516</td>\n",
       "    </tr>\n",
       "    <tr>\n",
       "      <th>1</th>\n",
       "      <td>Fifty Shades Trilogy (Fifty Shades of Grey / Fifty Shades Darker / Fifty Shades Freed)</td>\n",
       "      <td>3592</td>\n",
       "    </tr>\n",
       "    <tr>\n",
       "      <th>2</th>\n",
       "      <td>Gone Girl</td>\n",
       "      <td>3152</td>\n",
       "    </tr>\n",
       "    <tr>\n",
       "      <th>3</th>\n",
       "      <td>The Hunger Games (Book 1)</td>\n",
       "      <td>2999</td>\n",
       "    </tr>\n",
       "    <tr>\n",
       "      <th>4</th>\n",
       "      <td>No Easy Day: The Autobiography of a Navy Seal: The Firsthand Account of the Mission That Killed ...</td>\n",
       "      <td>2574</td>\n",
       "    </tr>\n",
       "  </tbody>\n",
       "</table>\n",
       "</div>"
      ],
      "text/plain": [
       "                                                                                         product_title  \\\n",
       "0             Fifty Shades of Grey: Book One of the Fifty Shades Trilogy (Fifty Shades of Grey Series)   \n",
       "1               Fifty Shades Trilogy (Fifty Shades of Grey / Fifty Shades Darker / Fifty Shades Freed)   \n",
       "2                                                                                            Gone Girl   \n",
       "3                                                                            The Hunger Games (Book 1)   \n",
       "4  No Easy Day: The Autobiography of a Navy Seal: The Firsthand Account of the Mission That Killed ...   \n",
       "\n",
       "   review_num  \n",
       "0       10516  \n",
       "1        3592  \n",
       "2        3152  \n",
       "3        2999  \n",
       "4        2574  "
      ]
     },
     "execution_count": 81,
     "metadata": {},
     "output_type": "execute_result"
    }
   ],
   "source": [
    "spark.sql(\n",
    "    \"\"\"select product_title, count(*) as review_num from ustbl \n",
    "    where product_category = 'Books' and year = 2012\n",
    "    group by product_title\n",
    "    order by review_num DESC\n",
    "    limit 5\"\"\").toPandas()"
   ]
  },
  {
   "cell_type": "code",
   "execution_count": 82,
   "metadata": {},
   "outputs": [
    {
     "data": {
      "text/html": [
       "<div>\n",
       "<style scoped>\n",
       "    .dataframe tbody tr th:only-of-type {\n",
       "        vertical-align: middle;\n",
       "    }\n",
       "\n",
       "    .dataframe tbody tr th {\n",
       "        vertical-align: top;\n",
       "    }\n",
       "\n",
       "    .dataframe thead th {\n",
       "        text-align: right;\n",
       "    }\n",
       "</style>\n",
       "<table border=\"1\" class=\"dataframe\">\n",
       "  <thead>\n",
       "    <tr style=\"text-align: right;\">\n",
       "      <th></th>\n",
       "      <th>product_title</th>\n",
       "      <th>review_num</th>\n",
       "    </tr>\n",
       "  </thead>\n",
       "  <tbody>\n",
       "    <tr>\n",
       "      <th>0</th>\n",
       "      <td>Proof of Heaven: A Neurosurgeon's Journey into the Afterlife</td>\n",
       "      <td>4504</td>\n",
       "    </tr>\n",
       "    <tr>\n",
       "      <th>1</th>\n",
       "      <td>A Memory of Light  (Wheel of Time, Book 14)</td>\n",
       "      <td>3644</td>\n",
       "    </tr>\n",
       "    <tr>\n",
       "      <th>2</th>\n",
       "      <td>Fifty Shades of Grey: Book One of the Fifty Shades Trilogy (Fifty Shades of Grey Series)</td>\n",
       "      <td>3490</td>\n",
       "    </tr>\n",
       "    <tr>\n",
       "      <th>3</th>\n",
       "      <td>Gone Girl</td>\n",
       "      <td>3426</td>\n",
       "    </tr>\n",
       "    <tr>\n",
       "      <th>4</th>\n",
       "      <td>The Legend of Zelda: Hyrule Historia</td>\n",
       "      <td>2956</td>\n",
       "    </tr>\n",
       "  </tbody>\n",
       "</table>\n",
       "</div>"
      ],
      "text/plain": [
       "                                                                              product_title  \\\n",
       "0                              Proof of Heaven: A Neurosurgeon's Journey into the Afterlife   \n",
       "1                                               A Memory of Light  (Wheel of Time, Book 14)   \n",
       "2  Fifty Shades of Grey: Book One of the Fifty Shades Trilogy (Fifty Shades of Grey Series)   \n",
       "3                                                                                 Gone Girl   \n",
       "4                                                      The Legend of Zelda: Hyrule Historia   \n",
       "\n",
       "   review_num  \n",
       "0        4504  \n",
       "1        3644  \n",
       "2        3490  \n",
       "3        3426  \n",
       "4        2956  "
      ]
     },
     "execution_count": 82,
     "metadata": {},
     "output_type": "execute_result"
    }
   ],
   "source": [
    "spark.sql(\n",
    "    \"\"\"select product_title, count(*) as review_num from ustbl \n",
    "    where product_category = 'Books' and year = 2013\n",
    "    group by product_title\n",
    "    order by review_num DESC\n",
    "    limit 5\"\"\").toPandas()"
   ]
  },
  {
   "cell_type": "code",
   "execution_count": 83,
   "metadata": {},
   "outputs": [
    {
     "data": {
      "text/html": [
       "<div>\n",
       "<style scoped>\n",
       "    .dataframe tbody tr th:only-of-type {\n",
       "        vertical-align: middle;\n",
       "    }\n",
       "\n",
       "    .dataframe tbody tr th {\n",
       "        vertical-align: top;\n",
       "    }\n",
       "\n",
       "    .dataframe thead th {\n",
       "        text-align: right;\n",
       "    }\n",
       "</style>\n",
       "<table border=\"1\" class=\"dataframe\">\n",
       "  <thead>\n",
       "    <tr style=\"text-align: right;\">\n",
       "      <th></th>\n",
       "      <th>product_title</th>\n",
       "      <th>review_num</th>\n",
       "    </tr>\n",
       "  </thead>\n",
       "  <tbody>\n",
       "    <tr>\n",
       "      <th>0</th>\n",
       "      <td>The Fault in Our Stars</td>\n",
       "      <td>5576</td>\n",
       "    </tr>\n",
       "    <tr>\n",
       "      <th>1</th>\n",
       "      <td>Gone Girl</td>\n",
       "      <td>3534</td>\n",
       "    </tr>\n",
       "    <tr>\n",
       "      <th>2</th>\n",
       "      <td>The Goldfinch: A Novel (Pulitzer Prize for Fiction)</td>\n",
       "      <td>3308</td>\n",
       "    </tr>\n",
       "    <tr>\n",
       "      <th>3</th>\n",
       "      <td>The Book Thief</td>\n",
       "      <td>2476</td>\n",
       "    </tr>\n",
       "    <tr>\n",
       "      <th>4</th>\n",
       "      <td>Allegiant (Divergent Series)</td>\n",
       "      <td>2404</td>\n",
       "    </tr>\n",
       "  </tbody>\n",
       "</table>\n",
       "</div>"
      ],
      "text/plain": [
       "                                         product_title  review_num\n",
       "0                               The Fault in Our Stars        5576\n",
       "1                                            Gone Girl        3534\n",
       "2  The Goldfinch: A Novel (Pulitzer Prize for Fiction)        3308\n",
       "3                                       The Book Thief        2476\n",
       "4                         Allegiant (Divergent Series)        2404"
      ]
     },
     "execution_count": 83,
     "metadata": {},
     "output_type": "execute_result"
    }
   ],
   "source": [
    "spark.sql(\n",
    "    \"\"\"select product_title, count(*) as review_num from ustbl \n",
    "    where product_category = 'Books' and year = 2014\n",
    "    group by product_title\n",
    "    order by review_num DESC\n",
    "    limit 5\"\"\").toPandas()"
   ]
  },
  {
   "cell_type": "code",
   "execution_count": 84,
   "metadata": {},
   "outputs": [
    {
     "data": {
      "text/html": [
       "<div>\n",
       "<style scoped>\n",
       "    .dataframe tbody tr th:only-of-type {\n",
       "        vertical-align: middle;\n",
       "    }\n",
       "\n",
       "    .dataframe tbody tr th {\n",
       "        vertical-align: top;\n",
       "    }\n",
       "\n",
       "    .dataframe thead th {\n",
       "        text-align: right;\n",
       "    }\n",
       "</style>\n",
       "<table border=\"1\" class=\"dataframe\">\n",
       "  <thead>\n",
       "    <tr style=\"text-align: right;\">\n",
       "      <th></th>\n",
       "      <th>product_title</th>\n",
       "      <th>review_num</th>\n",
       "    </tr>\n",
       "  </thead>\n",
       "  <tbody>\n",
       "    <tr>\n",
       "      <th>0</th>\n",
       "      <td>The Girl on the Train</td>\n",
       "      <td>5254</td>\n",
       "    </tr>\n",
       "    <tr>\n",
       "      <th>1</th>\n",
       "      <td>Go Set a Watchman: A Novel</td>\n",
       "      <td>3930</td>\n",
       "    </tr>\n",
       "    <tr>\n",
       "      <th>2</th>\n",
       "      <td>The Life-Changing Magic of Tidying Up: The Japanese Art of Decluttering and Organizing</td>\n",
       "      <td>3628</td>\n",
       "    </tr>\n",
       "    <tr>\n",
       "      <th>3</th>\n",
       "      <td>All the Light We Cannot See</td>\n",
       "      <td>3338</td>\n",
       "    </tr>\n",
       "    <tr>\n",
       "      <th>4</th>\n",
       "      <td>Grey: Fifty Shades of Grey as Told by Christian (Fifty Shades of Grey Series)</td>\n",
       "      <td>3170</td>\n",
       "    </tr>\n",
       "  </tbody>\n",
       "</table>\n",
       "</div>"
      ],
      "text/plain": [
       "                                                                            product_title  \\\n",
       "0                                                                   The Girl on the Train   \n",
       "1                                                              Go Set a Watchman: A Novel   \n",
       "2  The Life-Changing Magic of Tidying Up: The Japanese Art of Decluttering and Organizing   \n",
       "3                                                             All the Light We Cannot See   \n",
       "4           Grey: Fifty Shades of Grey as Told by Christian (Fifty Shades of Grey Series)   \n",
       "\n",
       "   review_num  \n",
       "0        5254  \n",
       "1        3930  \n",
       "2        3628  \n",
       "3        3338  \n",
       "4        3170  "
      ]
     },
     "execution_count": 84,
     "metadata": {},
     "output_type": "execute_result"
    }
   ],
   "source": [
    "spark.sql(\n",
    "    \"\"\"select product_title, count(*) as review_num from ustbl \n",
    "    where product_category = 'Books' and year = 2015\n",
    "    group by product_title\n",
    "    order by review_num DESC\n",
    "    limit 5\"\"\").toPandas()"
   ]
  },
  {
   "cell_type": "markdown",
   "metadata": {},
   "source": [
    "### Part b: Top Rated Books"
   ]
  },
  {
   "cell_type": "markdown",
   "metadata": {},
   "source": [
    "#### Top 10 rating books in last 10 years (2006-2015)"
   ]
  },
  {
   "cell_type": "code",
   "execution_count": 86,
   "metadata": {},
   "outputs": [
    {
     "data": {
      "text/html": [
       "<div>\n",
       "<style scoped>\n",
       "    .dataframe tbody tr th:only-of-type {\n",
       "        vertical-align: middle;\n",
       "    }\n",
       "\n",
       "    .dataframe tbody tr th {\n",
       "        vertical-align: top;\n",
       "    }\n",
       "\n",
       "    .dataframe thead th {\n",
       "        text-align: right;\n",
       "    }\n",
       "</style>\n",
       "<table border=\"1\" class=\"dataframe\">\n",
       "  <thead>\n",
       "    <tr style=\"text-align: right;\">\n",
       "      <th></th>\n",
       "      <th>product_title</th>\n",
       "      <th>review_num</th>\n",
       "      <th>rating</th>\n",
       "    </tr>\n",
       "  </thead>\n",
       "  <tbody>\n",
       "    <tr>\n",
       "      <th>0</th>\n",
       "      <td>Jesus Calling: Enjoying Peace in His Presence</td>\n",
       "      <td>5324</td>\n",
       "      <td>4.881757</td>\n",
       "    </tr>\n",
       "    <tr>\n",
       "      <th>1</th>\n",
       "      <td>Oh, the Places You'll Go!</td>\n",
       "      <td>3539</td>\n",
       "      <td>4.860881</td>\n",
       "    </tr>\n",
       "    <tr>\n",
       "      <th>2</th>\n",
       "      <td>The Legend of Zelda: Hyrule Historia</td>\n",
       "      <td>4654</td>\n",
       "      <td>4.845724</td>\n",
       "    </tr>\n",
       "    <tr>\n",
       "      <th>3</th>\n",
       "      <td>Wonder</td>\n",
       "      <td>3319</td>\n",
       "      <td>4.844796</td>\n",
       "    </tr>\n",
       "    <tr>\n",
       "      <th>4</th>\n",
       "      <td>Being Mortal: Medicine and What Matters in the End</td>\n",
       "      <td>2534</td>\n",
       "      <td>4.820942</td>\n",
       "    </tr>\n",
       "    <tr>\n",
       "      <th>5</th>\n",
       "      <td>Humans of New York</td>\n",
       "      <td>3898</td>\n",
       "      <td>4.816297</td>\n",
       "    </tr>\n",
       "    <tr>\n",
       "      <th>6</th>\n",
       "      <td>Rush Revere and the Brave Pilgrims: Time-Travel Adventures with Exceptional Americans</td>\n",
       "      <td>4194</td>\n",
       "      <td>4.790819</td>\n",
       "    </tr>\n",
       "    <tr>\n",
       "      <th>7</th>\n",
       "      <td>Unbroken: A World War II Story of Survival, Resilience, and Redemption</td>\n",
       "      <td>6439</td>\n",
       "      <td>4.788344</td>\n",
       "    </tr>\n",
       "    <tr>\n",
       "      <th>8</th>\n",
       "      <td>A Game of Thrones / A Clash of Kings / A Storm of Swords / A Feast of Crows / A Dance with Dragons</td>\n",
       "      <td>3548</td>\n",
       "      <td>4.763811</td>\n",
       "    </tr>\n",
       "    <tr>\n",
       "      <th>9</th>\n",
       "      <td>The 5 Love Languages: The Secret to Love That Lasts</td>\n",
       "      <td>4454</td>\n",
       "      <td>4.760772</td>\n",
       "    </tr>\n",
       "  </tbody>\n",
       "</table>\n",
       "</div>"
      ],
      "text/plain": [
       "                                                                                        product_title  \\\n",
       "0                                                       Jesus Calling: Enjoying Peace in His Presence   \n",
       "1                                                                         Oh, the Places You'll Go!     \n",
       "2                                                                The Legend of Zelda: Hyrule Historia   \n",
       "3                                                                                              Wonder   \n",
       "4                                                  Being Mortal: Medicine and What Matters in the End   \n",
       "5                                                                                  Humans of New York   \n",
       "6               Rush Revere and the Brave Pilgrims: Time-Travel Adventures with Exceptional Americans   \n",
       "7                              Unbroken: A World War II Story of Survival, Resilience, and Redemption   \n",
       "8  A Game of Thrones / A Clash of Kings / A Storm of Swords / A Feast of Crows / A Dance with Dragons   \n",
       "9                                                 The 5 Love Languages: The Secret to Love That Lasts   \n",
       "\n",
       "   review_num    rating  \n",
       "0        5324  4.881757  \n",
       "1        3539  4.860881  \n",
       "2        4654  4.845724  \n",
       "3        3319  4.844796  \n",
       "4        2534  4.820942  \n",
       "5        3898  4.816297  \n",
       "6        4194  4.790819  \n",
       "7        6439  4.788344  \n",
       "8        3548  4.763811  \n",
       "9        4454  4.760772  "
      ]
     },
     "execution_count": 86,
     "metadata": {},
     "output_type": "execute_result"
    }
   ],
   "source": [
    "# Select top rated books with top100 review amount\n",
    "spark.sql(\n",
    "    \"\"\"SELECT t1.product_title, t1.review_num, t2.rating\n",
    "FROM \n",
    "    (select product_title, count(*) as review_num from ustbl \n",
    "    where product_category = 'Books' and year > 2005 \n",
    "    group by product_title \n",
    "    order by review_num DESC \n",
    "    limit 100) t1\n",
    "LEFT JOIN\n",
    "    (select product_title, avg(star_rating) as rating from ustbl \n",
    "    group by product_title) t2\n",
    "ON (t1.product_title = t2.product_title)\n",
    "ORDER BY t2.rating DESC, t1.review_num DESC LIMIT 10\"\"\").toPandas()"
   ]
  },
  {
   "cell_type": "markdown",
   "metadata": {},
   "source": [
    "#### Top 5 rated books for each year from 2006 to 2015"
   ]
  },
  {
   "cell_type": "code",
   "execution_count": 87,
   "metadata": {},
   "outputs": [
    {
     "data": {
      "text/html": [
       "<div>\n",
       "<style scoped>\n",
       "    .dataframe tbody tr th:only-of-type {\n",
       "        vertical-align: middle;\n",
       "    }\n",
       "\n",
       "    .dataframe tbody tr th {\n",
       "        vertical-align: top;\n",
       "    }\n",
       "\n",
       "    .dataframe thead th {\n",
       "        text-align: right;\n",
       "    }\n",
       "</style>\n",
       "<table border=\"1\" class=\"dataframe\">\n",
       "  <thead>\n",
       "    <tr style=\"text-align: right;\">\n",
       "      <th></th>\n",
       "      <th>product_title</th>\n",
       "      <th>review_num</th>\n",
       "      <th>rating</th>\n",
       "    </tr>\n",
       "  </thead>\n",
       "  <tbody>\n",
       "    <tr>\n",
       "      <th>0</th>\n",
       "      <td>For Laci: A Mother's Story of Love, Loss, and Justice</td>\n",
       "      <td>223</td>\n",
       "      <td>4.817204</td>\n",
       "    </tr>\n",
       "    <tr>\n",
       "      <th>1</th>\n",
       "      <td>Team of Rivals: The Political Genius of Abraham Lincoln</td>\n",
       "      <td>308</td>\n",
       "      <td>4.730311</td>\n",
       "    </tr>\n",
       "    <tr>\n",
       "      <th>2</th>\n",
       "      <td>The Five Love Languages: How to Express Heartfelt Commitment to Your Mate</td>\n",
       "      <td>156</td>\n",
       "      <td>4.709896</td>\n",
       "    </tr>\n",
       "    <tr>\n",
       "      <th>3</th>\n",
       "      <td>Night (Night)</td>\n",
       "      <td>408</td>\n",
       "      <td>4.668046</td>\n",
       "    </tr>\n",
       "    <tr>\n",
       "      <th>4</th>\n",
       "      <td>To Kill a Mockingbird</td>\n",
       "      <td>204</td>\n",
       "      <td>4.661871</td>\n",
       "    </tr>\n",
       "  </tbody>\n",
       "</table>\n",
       "</div>"
      ],
      "text/plain": [
       "                                                               product_title  \\\n",
       "0                      For Laci: A Mother's Story of Love, Loss, and Justice   \n",
       "1                    Team of Rivals: The Political Genius of Abraham Lincoln   \n",
       "2  The Five Love Languages: How to Express Heartfelt Commitment to Your Mate   \n",
       "3                                                              Night (Night)   \n",
       "4                                                      To Kill a Mockingbird   \n",
       "\n",
       "   review_num    rating  \n",
       "0         223  4.817204  \n",
       "1         308  4.730311  \n",
       "2         156  4.709896  \n",
       "3         408  4.668046  \n",
       "4         204  4.661871  "
      ]
     },
     "execution_count": 87,
     "metadata": {},
     "output_type": "execute_result"
    }
   ],
   "source": [
    "spark.sql(\n",
    "    \"\"\"SELECT t1.product_title, t1.review_num, t2.rating\n",
    "FROM \n",
    "    (select product_title, count(*) as review_num from ustbl \n",
    "    where product_category = 'Books' and year = 2006 \n",
    "    group by product_title \n",
    "    order by review_num DESC \n",
    "    limit 100) t1\n",
    "LEFT JOIN\n",
    "    (select product_title, avg(star_rating) as rating from ustbl \n",
    "    group by product_title) t2\n",
    "ON (t1.product_title = t2.product_title)\n",
    "ORDER BY t2.rating DESC, t1.review_num DESC LIMIT 5\"\"\").toPandas()"
   ]
  },
  {
   "cell_type": "code",
   "execution_count": 88,
   "metadata": {},
   "outputs": [
    {
     "data": {
      "text/html": [
       "<div>\n",
       "<style scoped>\n",
       "    .dataframe tbody tr th:only-of-type {\n",
       "        vertical-align: middle;\n",
       "    }\n",
       "\n",
       "    .dataframe tbody tr th {\n",
       "        vertical-align: top;\n",
       "    }\n",
       "\n",
       "    .dataframe thead th {\n",
       "        text-align: right;\n",
       "    }\n",
       "</style>\n",
       "<table border=\"1\" class=\"dataframe\">\n",
       "  <thead>\n",
       "    <tr style=\"text-align: right;\">\n",
       "      <th></th>\n",
       "      <th>product_title</th>\n",
       "      <th>review_num</th>\n",
       "      <th>rating</th>\n",
       "    </tr>\n",
       "  </thead>\n",
       "  <tbody>\n",
       "    <tr>\n",
       "      <th>0</th>\n",
       "      <td>Vegan Cupcakes Take Over the World: 75 Dairy-Free Recipes for Cupcakes that Rule</td>\n",
       "      <td>188</td>\n",
       "      <td>4.803810</td>\n",
       "    </tr>\n",
       "    <tr>\n",
       "      <th>1</th>\n",
       "      <td>The Laws of Thinking: 20 Secrets to Using the Divine Power of Your Mind to Manifest Prosperity</td>\n",
       "      <td>202</td>\n",
       "      <td>4.761194</td>\n",
       "    </tr>\n",
       "    <tr>\n",
       "      <th>2</th>\n",
       "      <td>Because They Hate: A Survivor of Islamic Terror Warns America</td>\n",
       "      <td>202</td>\n",
       "      <td>4.719764</td>\n",
       "    </tr>\n",
       "    <tr>\n",
       "      <th>3</th>\n",
       "      <td>The Invention of Hugo Cabret</td>\n",
       "      <td>200</td>\n",
       "      <td>4.709924</td>\n",
       "    </tr>\n",
       "    <tr>\n",
       "      <th>4</th>\n",
       "      <td>The Five Love Languages: How to Express Heartfelt Commitment to Your Mate</td>\n",
       "      <td>250</td>\n",
       "      <td>4.709896</td>\n",
       "    </tr>\n",
       "  </tbody>\n",
       "</table>\n",
       "</div>"
      ],
      "text/plain": [
       "                                                                                    product_title  \\\n",
       "0                Vegan Cupcakes Take Over the World: 75 Dairy-Free Recipes for Cupcakes that Rule   \n",
       "1  The Laws of Thinking: 20 Secrets to Using the Divine Power of Your Mind to Manifest Prosperity   \n",
       "2                                   Because They Hate: A Survivor of Islamic Terror Warns America   \n",
       "3                                                                    The Invention of Hugo Cabret   \n",
       "4                       The Five Love Languages: How to Express Heartfelt Commitment to Your Mate   \n",
       "\n",
       "   review_num    rating  \n",
       "0         188  4.803810  \n",
       "1         202  4.761194  \n",
       "2         202  4.719764  \n",
       "3         200  4.709924  \n",
       "4         250  4.709896  "
      ]
     },
     "execution_count": 88,
     "metadata": {},
     "output_type": "execute_result"
    }
   ],
   "source": [
    "spark.sql(\n",
    "    \"\"\"SELECT t1.product_title, t1.review_num, t2.rating\n",
    "FROM \n",
    "    (select product_title, count(*) as review_num from ustbl \n",
    "    where product_category = 'Books' and year = 2007 \n",
    "    group by product_title \n",
    "    order by review_num DESC \n",
    "    limit 100) t1\n",
    "LEFT JOIN\n",
    "    (select product_title, avg(star_rating) as rating from ustbl \n",
    "    group by product_title) t2\n",
    "ON (t1.product_title = t2.product_title)\n",
    "ORDER BY t2.rating DESC, t1.review_num DESC LIMIT 5\"\"\").toPandas()"
   ]
  },
  {
   "cell_type": "code",
   "execution_count": 89,
   "metadata": {},
   "outputs": [
    {
     "data": {
      "text/html": [
       "<div>\n",
       "<style scoped>\n",
       "    .dataframe tbody tr th:only-of-type {\n",
       "        vertical-align: middle;\n",
       "    }\n",
       "\n",
       "    .dataframe tbody tr th {\n",
       "        vertical-align: top;\n",
       "    }\n",
       "\n",
       "    .dataframe thead th {\n",
       "        text-align: right;\n",
       "    }\n",
       "</style>\n",
       "<table border=\"1\" class=\"dataframe\">\n",
       "  <thead>\n",
       "    <tr style=\"text-align: right;\">\n",
       "      <th></th>\n",
       "      <th>product_title</th>\n",
       "      <th>review_num</th>\n",
       "      <th>rating</th>\n",
       "    </tr>\n",
       "  </thead>\n",
       "  <tbody>\n",
       "    <tr>\n",
       "      <th>0</th>\n",
       "      <td>Star Wars: A Pop-Up Guide to the Galaxy</td>\n",
       "      <td>256</td>\n",
       "      <td>4.846154</td>\n",
       "    </tr>\n",
       "    <tr>\n",
       "      <th>1</th>\n",
       "      <td>The Complete Calvin and Hobbes [Box Set]</td>\n",
       "      <td>211</td>\n",
       "      <td>4.819987</td>\n",
       "    </tr>\n",
       "    <tr>\n",
       "      <th>2</th>\n",
       "      <td>Diary of a Wimpy Kid Rodrick Rules</td>\n",
       "      <td>207</td>\n",
       "      <td>4.733181</td>\n",
       "    </tr>\n",
       "    <tr>\n",
       "      <th>3</th>\n",
       "      <td>The Twilight Saga Collection</td>\n",
       "      <td>296</td>\n",
       "      <td>4.714131</td>\n",
       "    </tr>\n",
       "    <tr>\n",
       "      <th>4</th>\n",
       "      <td>Midnights with the Mystic: A Little Guide to Freedom and Bliss</td>\n",
       "      <td>295</td>\n",
       "      <td>4.708122</td>\n",
       "    </tr>\n",
       "  </tbody>\n",
       "</table>\n",
       "</div>"
      ],
      "text/plain": [
       "                                                    product_title  review_num  \\\n",
       "0                         Star Wars: A Pop-Up Guide to the Galaxy         256   \n",
       "1                        The Complete Calvin and Hobbes [Box Set]         211   \n",
       "2                              Diary of a Wimpy Kid Rodrick Rules         207   \n",
       "3                                    The Twilight Saga Collection         296   \n",
       "4  Midnights with the Mystic: A Little Guide to Freedom and Bliss         295   \n",
       "\n",
       "     rating  \n",
       "0  4.846154  \n",
       "1  4.819987  \n",
       "2  4.733181  \n",
       "3  4.714131  \n",
       "4  4.708122  "
      ]
     },
     "execution_count": 89,
     "metadata": {},
     "output_type": "execute_result"
    }
   ],
   "source": [
    "spark.sql(\n",
    "    \"\"\"SELECT t1.product_title, t1.review_num, t2.rating\n",
    "FROM \n",
    "    (select product_title, count(*) as review_num from ustbl \n",
    "    where product_category = 'Books' and year = 2008 \n",
    "    group by product_title \n",
    "    order by review_num DESC \n",
    "    limit 100) t1\n",
    "LEFT JOIN\n",
    "    (select product_title, avg(star_rating) as rating from ustbl \n",
    "    group by product_title) t2\n",
    "ON (t1.product_title = t2.product_title)\n",
    "ORDER BY t2.rating DESC, t1.review_num DESC LIMIT 5\"\"\").toPandas()"
   ]
  },
  {
   "cell_type": "code",
   "execution_count": 90,
   "metadata": {},
   "outputs": [
    {
     "data": {
      "text/html": [
       "<div>\n",
       "<style scoped>\n",
       "    .dataframe tbody tr th:only-of-type {\n",
       "        vertical-align: middle;\n",
       "    }\n",
       "\n",
       "    .dataframe tbody tr th {\n",
       "        vertical-align: top;\n",
       "    }\n",
       "\n",
       "    .dataframe thead th {\n",
       "        text-align: right;\n",
       "    }\n",
       "</style>\n",
       "<table border=\"1\" class=\"dataframe\">\n",
       "  <thead>\n",
       "    <tr style=\"text-align: right;\">\n",
       "      <th></th>\n",
       "      <th>product_title</th>\n",
       "      <th>review_num</th>\n",
       "      <th>rating</th>\n",
       "    </tr>\n",
       "  </thead>\n",
       "  <tbody>\n",
       "    <tr>\n",
       "      <th>0</th>\n",
       "      <td>The Last Olympian (Percy Jackson and the Olympians, Book 5)</td>\n",
       "      <td>254</td>\n",
       "      <td>4.844170</td>\n",
       "    </tr>\n",
       "    <tr>\n",
       "      <th>1</th>\n",
       "      <td>Mastering the Art of French Cooking, Vol. 1</td>\n",
       "      <td>238</td>\n",
       "      <td>4.828816</td>\n",
       "    </tr>\n",
       "    <tr>\n",
       "      <th>2</th>\n",
       "      <td>Diary of a Wimpy Kid: The Last Straw (Book 3)</td>\n",
       "      <td>280</td>\n",
       "      <td>4.755448</td>\n",
       "    </tr>\n",
       "    <tr>\n",
       "      <th>3</th>\n",
       "      <td>Team of Rivals: The Political Genius of Abraham Lincoln</td>\n",
       "      <td>222</td>\n",
       "      <td>4.730311</td>\n",
       "    </tr>\n",
       "    <tr>\n",
       "      <th>4</th>\n",
       "      <td>Sookie Stackhouse Dead Until Dark; Living Dead in Dallas; Club Dead; Dead to the World; Dead as ...</td>\n",
       "      <td>698</td>\n",
       "      <td>4.729792</td>\n",
       "    </tr>\n",
       "  </tbody>\n",
       "</table>\n",
       "</div>"
      ],
      "text/plain": [
       "                                                                                         product_title  \\\n",
       "0                                          The Last Olympian (Percy Jackson and the Olympians, Book 5)   \n",
       "1                                                          Mastering the Art of French Cooking, Vol. 1   \n",
       "2                                                        Diary of a Wimpy Kid: The Last Straw (Book 3)   \n",
       "3                                              Team of Rivals: The Political Genius of Abraham Lincoln   \n",
       "4  Sookie Stackhouse Dead Until Dark; Living Dead in Dallas; Club Dead; Dead to the World; Dead as ...   \n",
       "\n",
       "   review_num    rating  \n",
       "0         254  4.844170  \n",
       "1         238  4.828816  \n",
       "2         280  4.755448  \n",
       "3         222  4.730311  \n",
       "4         698  4.729792  "
      ]
     },
     "execution_count": 90,
     "metadata": {},
     "output_type": "execute_result"
    }
   ],
   "source": [
    "spark.sql(\n",
    "    \"\"\"SELECT t1.product_title, t1.review_num, t2.rating\n",
    "FROM \n",
    "    (select product_title, count(*) as review_num from ustbl \n",
    "    where product_category = 'Books' and year = 2009 \n",
    "    group by product_title \n",
    "    order by review_num DESC \n",
    "    limit 100) t1\n",
    "LEFT JOIN\n",
    "    (select product_title, avg(star_rating) as rating from ustbl \n",
    "    group by product_title) t2\n",
    "ON (t1.product_title = t2.product_title)\n",
    "ORDER BY t2.rating DESC, t1.review_num DESC LIMIT 5\"\"\").toPandas()"
   ]
  },
  {
   "cell_type": "code",
   "execution_count": 91,
   "metadata": {},
   "outputs": [
    {
     "data": {
      "text/html": [
       "<div>\n",
       "<style scoped>\n",
       "    .dataframe tbody tr th:only-of-type {\n",
       "        vertical-align: middle;\n",
       "    }\n",
       "\n",
       "    .dataframe tbody tr th {\n",
       "        vertical-align: top;\n",
       "    }\n",
       "\n",
       "    .dataframe thead th {\n",
       "        text-align: right;\n",
       "    }\n",
       "</style>\n",
       "<table border=\"1\" class=\"dataframe\">\n",
       "  <thead>\n",
       "    <tr style=\"text-align: right;\">\n",
       "      <th></th>\n",
       "      <th>product_title</th>\n",
       "      <th>review_num</th>\n",
       "      <th>rating</th>\n",
       "    </tr>\n",
       "  </thead>\n",
       "  <tbody>\n",
       "    <tr>\n",
       "      <th>0</th>\n",
       "      <td>Aspire: Discovering Your Purpose Through the Power of Words</td>\n",
       "      <td>466</td>\n",
       "      <td>4.898734</td>\n",
       "    </tr>\n",
       "    <tr>\n",
       "      <th>1</th>\n",
       "      <td>With the Old Breed: At Peleliu and Okinawa</td>\n",
       "      <td>266</td>\n",
       "      <td>4.873105</td>\n",
       "    </tr>\n",
       "    <tr>\n",
       "      <th>2</th>\n",
       "      <td>Unlocked</td>\n",
       "      <td>587</td>\n",
       "      <td>4.816216</td>\n",
       "    </tr>\n",
       "    <tr>\n",
       "      <th>3</th>\n",
       "      <td>The Twilight Saga Collection</td>\n",
       "      <td>379</td>\n",
       "      <td>4.714131</td>\n",
       "    </tr>\n",
       "    <tr>\n",
       "      <th>4</th>\n",
       "      <td>The Pioneer Woman Cooks: Recipes from an Accidental Country Girl</td>\n",
       "      <td>304</td>\n",
       "      <td>4.712772</td>\n",
       "    </tr>\n",
       "  </tbody>\n",
       "</table>\n",
       "</div>"
      ],
      "text/plain": [
       "                                                      product_title  \\\n",
       "0       Aspire: Discovering Your Purpose Through the Power of Words   \n",
       "1                        With the Old Breed: At Peleliu and Okinawa   \n",
       "2                                                          Unlocked   \n",
       "3                                      The Twilight Saga Collection   \n",
       "4  The Pioneer Woman Cooks: Recipes from an Accidental Country Girl   \n",
       "\n",
       "   review_num    rating  \n",
       "0         466  4.898734  \n",
       "1         266  4.873105  \n",
       "2         587  4.816216  \n",
       "3         379  4.714131  \n",
       "4         304  4.712772  "
      ]
     },
     "execution_count": 91,
     "metadata": {},
     "output_type": "execute_result"
    }
   ],
   "source": [
    "spark.sql(\n",
    "    \"\"\"SELECT t1.product_title, t1.review_num, t2.rating\n",
    "FROM \n",
    "    (select product_title, count(*) as review_num from ustbl \n",
    "    where product_category = 'Books' and year = 2010 \n",
    "    group by product_title \n",
    "    order by review_num DESC \n",
    "    limit 100) t1\n",
    "LEFT JOIN\n",
    "    (select product_title, avg(star_rating) as rating from ustbl \n",
    "    group by product_title) t2\n",
    "ON (t1.product_title = t2.product_title)\n",
    "ORDER BY t2.rating DESC, t1.review_num DESC LIMIT 5\"\"\").toPandas()"
   ]
  },
  {
   "cell_type": "code",
   "execution_count": 92,
   "metadata": {},
   "outputs": [
    {
     "data": {
      "text/html": [
       "<div>\n",
       "<style scoped>\n",
       "    .dataframe tbody tr th:only-of-type {\n",
       "        vertical-align: middle;\n",
       "    }\n",
       "\n",
       "    .dataframe tbody tr th {\n",
       "        vertical-align: top;\n",
       "    }\n",
       "\n",
       "    .dataframe thead th {\n",
       "        text-align: right;\n",
       "    }\n",
       "</style>\n",
       "<table border=\"1\" class=\"dataframe\">\n",
       "  <thead>\n",
       "    <tr style=\"text-align: right;\">\n",
       "      <th></th>\n",
       "      <th>product_title</th>\n",
       "      <th>review_num</th>\n",
       "      <th>rating</th>\n",
       "    </tr>\n",
       "  </thead>\n",
       "  <tbody>\n",
       "    <tr>\n",
       "      <th>0</th>\n",
       "      <td>Until Tuesday: A Wounded Warrior and the Golden Retriever Who Saved Him</td>\n",
       "      <td>416</td>\n",
       "      <td>4.808532</td>\n",
       "    </tr>\n",
       "    <tr>\n",
       "      <th>1</th>\n",
       "      <td>Unbroken: A World War II Story of Survival, Resilience, and Redemption</td>\n",
       "      <td>1069</td>\n",
       "      <td>4.788344</td>\n",
       "    </tr>\n",
       "    <tr>\n",
       "      <th>2</th>\n",
       "      <td>The 5 Love Languages: The Secret to Love That Lasts</td>\n",
       "      <td>282</td>\n",
       "      <td>4.760772</td>\n",
       "    </tr>\n",
       "    <tr>\n",
       "      <th>3</th>\n",
       "      <td>Learning (Bailey Flanigan Series)</td>\n",
       "      <td>291</td>\n",
       "      <td>4.751429</td>\n",
       "    </tr>\n",
       "    <tr>\n",
       "      <th>4</th>\n",
       "      <td>The Hunger Games Trilogy Boxed Set</td>\n",
       "      <td>534</td>\n",
       "      <td>4.743872</td>\n",
       "    </tr>\n",
       "  </tbody>\n",
       "</table>\n",
       "</div>"
      ],
      "text/plain": [
       "                                                             product_title  \\\n",
       "0  Until Tuesday: A Wounded Warrior and the Golden Retriever Who Saved Him   \n",
       "1   Unbroken: A World War II Story of Survival, Resilience, and Redemption   \n",
       "2                      The 5 Love Languages: The Secret to Love That Lasts   \n",
       "3                                        Learning (Bailey Flanigan Series)   \n",
       "4                                       The Hunger Games Trilogy Boxed Set   \n",
       "\n",
       "   review_num    rating  \n",
       "0         416  4.808532  \n",
       "1        1069  4.788344  \n",
       "2         282  4.760772  \n",
       "3         291  4.751429  \n",
       "4         534  4.743872  "
      ]
     },
     "execution_count": 92,
     "metadata": {},
     "output_type": "execute_result"
    }
   ],
   "source": [
    "spark.sql(\n",
    "    \"\"\"SELECT t1.product_title, t1.review_num, t2.rating\n",
    "FROM \n",
    "    (select product_title, count(*) as review_num from ustbl \n",
    "    where product_category = 'Books' and year = 2011 \n",
    "    group by product_title \n",
    "    order by review_num DESC \n",
    "    limit 100) t1\n",
    "LEFT JOIN\n",
    "    (select product_title, avg(star_rating) as rating from ustbl \n",
    "    group by product_title) t2\n",
    "ON (t1.product_title = t2.product_title)\n",
    "ORDER BY t2.rating DESC, t1.review_num DESC LIMIT 5\"\"\").toPandas()"
   ]
  },
  {
   "cell_type": "code",
   "execution_count": 93,
   "metadata": {},
   "outputs": [
    {
     "data": {
      "text/html": [
       "<div>\n",
       "<style scoped>\n",
       "    .dataframe tbody tr th:only-of-type {\n",
       "        vertical-align: middle;\n",
       "    }\n",
       "\n",
       "    .dataframe tbody tr th {\n",
       "        vertical-align: top;\n",
       "    }\n",
       "\n",
       "    .dataframe thead th {\n",
       "        text-align: right;\n",
       "    }\n",
       "</style>\n",
       "<table border=\"1\" class=\"dataframe\">\n",
       "  <thead>\n",
       "    <tr style=\"text-align: right;\">\n",
       "      <th></th>\n",
       "      <th>product_title</th>\n",
       "      <th>review_num</th>\n",
       "      <th>rating</th>\n",
       "    </tr>\n",
       "  </thead>\n",
       "  <tbody>\n",
       "    <tr>\n",
       "      <th>0</th>\n",
       "      <td>Jesus Calling: Enjoying Peace in His Presence</td>\n",
       "      <td>366</td>\n",
       "      <td>4.881757</td>\n",
       "    </tr>\n",
       "    <tr>\n",
       "      <th>1</th>\n",
       "      <td>Fearless: The Undaunted Courage and Ultimate Sacrifice of Navy SEAL Team SIX Operator Adam Brown</td>\n",
       "      <td>682</td>\n",
       "      <td>4.873696</td>\n",
       "    </tr>\n",
       "    <tr>\n",
       "      <th>2</th>\n",
       "      <td>Wonder</td>\n",
       "      <td>369</td>\n",
       "      <td>4.844796</td>\n",
       "    </tr>\n",
       "    <tr>\n",
       "      <th>3</th>\n",
       "      <td>Until Tuesday: A Wounded Warrior and the Golden Retriever Who Saved Him</td>\n",
       "      <td>365</td>\n",
       "      <td>4.808532</td>\n",
       "    </tr>\n",
       "    <tr>\n",
       "      <th>4</th>\n",
       "      <td>Unbroken: A World War II Story of Survival, Resilience, and Redemption</td>\n",
       "      <td>664</td>\n",
       "      <td>4.788344</td>\n",
       "    </tr>\n",
       "  </tbody>\n",
       "</table>\n",
       "</div>"
      ],
      "text/plain": [
       "                                                                                      product_title  \\\n",
       "0                                                     Jesus Calling: Enjoying Peace in His Presence   \n",
       "1  Fearless: The Undaunted Courage and Ultimate Sacrifice of Navy SEAL Team SIX Operator Adam Brown   \n",
       "2                                                                                            Wonder   \n",
       "3                           Until Tuesday: A Wounded Warrior and the Golden Retriever Who Saved Him   \n",
       "4                            Unbroken: A World War II Story of Survival, Resilience, and Redemption   \n",
       "\n",
       "   review_num    rating  \n",
       "0         366  4.881757  \n",
       "1         682  4.873696  \n",
       "2         369  4.844796  \n",
       "3         365  4.808532  \n",
       "4         664  4.788344  "
      ]
     },
     "execution_count": 93,
     "metadata": {},
     "output_type": "execute_result"
    }
   ],
   "source": [
    "spark.sql(\n",
    "    \"\"\"SELECT t1.product_title, t1.review_num, t2.rating\n",
    "FROM \n",
    "    (select product_title, count(*) as review_num from ustbl \n",
    "    where product_category = 'Books' and year = 2012 \n",
    "    group by product_title \n",
    "    order by review_num DESC \n",
    "    limit 100) t1\n",
    "LEFT JOIN\n",
    "    (select product_title, avg(star_rating) as rating from ustbl \n",
    "    group by product_title) t2\n",
    "ON (t1.product_title = t2.product_title)\n",
    "ORDER BY t2.rating DESC, t1.review_num DESC LIMIT 5\"\"\").toPandas()"
   ]
  },
  {
   "cell_type": "code",
   "execution_count": 94,
   "metadata": {},
   "outputs": [
    {
     "data": {
      "text/html": [
       "<div>\n",
       "<style scoped>\n",
       "    .dataframe tbody tr th:only-of-type {\n",
       "        vertical-align: middle;\n",
       "    }\n",
       "\n",
       "    .dataframe tbody tr th {\n",
       "        vertical-align: top;\n",
       "    }\n",
       "\n",
       "    .dataframe thead th {\n",
       "        text-align: right;\n",
       "    }\n",
       "</style>\n",
       "<table border=\"1\" class=\"dataframe\">\n",
       "  <thead>\n",
       "    <tr style=\"text-align: right;\">\n",
       "      <th></th>\n",
       "      <th>product_title</th>\n",
       "      <th>review_num</th>\n",
       "      <th>rating</th>\n",
       "    </tr>\n",
       "  </thead>\n",
       "  <tbody>\n",
       "    <tr>\n",
       "      <th>0</th>\n",
       "      <td>Goodnight, Goodnight Construction Site</td>\n",
       "      <td>607</td>\n",
       "      <td>4.890690</td>\n",
       "    </tr>\n",
       "    <tr>\n",
       "      <th>1</th>\n",
       "      <td>Jesus Calling: Enjoying Peace in His Presence</td>\n",
       "      <td>1505</td>\n",
       "      <td>4.881757</td>\n",
       "    </tr>\n",
       "    <tr>\n",
       "      <th>2</th>\n",
       "      <td>Fearless: The Undaunted Courage and Ultimate Sacrifice of Navy SEAL Team SIX Operator Adam Brown</td>\n",
       "      <td>716</td>\n",
       "      <td>4.873696</td>\n",
       "    </tr>\n",
       "    <tr>\n",
       "      <th>3</th>\n",
       "      <td>Go Pro: 7 Steps to Becoming a Network Marketing Professional</td>\n",
       "      <td>775</td>\n",
       "      <td>4.868534</td>\n",
       "    </tr>\n",
       "    <tr>\n",
       "      <th>4</th>\n",
       "      <td>Oh, the Places You'll Go!</td>\n",
       "      <td>820</td>\n",
       "      <td>4.860881</td>\n",
       "    </tr>\n",
       "  </tbody>\n",
       "</table>\n",
       "</div>"
      ],
      "text/plain": [
       "                                                                                      product_title  \\\n",
       "0                                                            Goodnight, Goodnight Construction Site   \n",
       "1                                                     Jesus Calling: Enjoying Peace in His Presence   \n",
       "2  Fearless: The Undaunted Courage and Ultimate Sacrifice of Navy SEAL Team SIX Operator Adam Brown   \n",
       "3                                      Go Pro: 7 Steps to Becoming a Network Marketing Professional   \n",
       "4                                                                       Oh, the Places You'll Go!     \n",
       "\n",
       "   review_num    rating  \n",
       "0         607  4.890690  \n",
       "1        1505  4.881757  \n",
       "2         716  4.873696  \n",
       "3         775  4.868534  \n",
       "4         820  4.860881  "
      ]
     },
     "execution_count": 94,
     "metadata": {},
     "output_type": "execute_result"
    }
   ],
   "source": [
    "spark.sql(\n",
    "    \"\"\"SELECT t1.product_title, t1.review_num, t2.rating\n",
    "FROM \n",
    "    (select product_title, count(*) as review_num from ustbl \n",
    "    where product_category = 'Books' and year = 2013 \n",
    "    group by product_title \n",
    "    order by review_num DESC \n",
    "    limit 100) t1\n",
    "LEFT JOIN\n",
    "    (select product_title, avg(star_rating) as rating from ustbl \n",
    "    group by product_title) t2\n",
    "ON (t1.product_title = t2.product_title)\n",
    "ORDER BY t2.rating DESC, t1.review_num DESC LIMIT 5\"\"\").toPandas()"
   ]
  },
  {
   "cell_type": "code",
   "execution_count": 95,
   "metadata": {},
   "outputs": [
    {
     "data": {
      "text/html": [
       "<div>\n",
       "<style scoped>\n",
       "    .dataframe tbody tr th:only-of-type {\n",
       "        vertical-align: middle;\n",
       "    }\n",
       "\n",
       "    .dataframe tbody tr th {\n",
       "        vertical-align: top;\n",
       "    }\n",
       "\n",
       "    .dataframe thead th {\n",
       "        text-align: right;\n",
       "    }\n",
       "</style>\n",
       "<table border=\"1\" class=\"dataframe\">\n",
       "  <thead>\n",
       "    <tr style=\"text-align: right;\">\n",
       "      <th></th>\n",
       "      <th>product_title</th>\n",
       "      <th>review_num</th>\n",
       "      <th>rating</th>\n",
       "    </tr>\n",
       "  </thead>\n",
       "  <tbody>\n",
       "    <tr>\n",
       "      <th>0</th>\n",
       "      <td>Rush Revere and the American Revolution: Time-Travel Adventures With Exceptional Americans</td>\n",
       "      <td>687</td>\n",
       "      <td>4.895547</td>\n",
       "    </tr>\n",
       "    <tr>\n",
       "      <th>1</th>\n",
       "      <td>Rush Revere and the First Patriots: Time-Travel Adventures With Exceptional Americans</td>\n",
       "      <td>1372</td>\n",
       "      <td>4.883428</td>\n",
       "    </tr>\n",
       "    <tr>\n",
       "      <th>2</th>\n",
       "      <td>Jesus Calling: Enjoying Peace in His Presence</td>\n",
       "      <td>1759</td>\n",
       "      <td>4.881757</td>\n",
       "    </tr>\n",
       "    <tr>\n",
       "      <th>3</th>\n",
       "      <td>The Promise of a Pencil: How an Ordinary Person Can Create Extraordinary Change</td>\n",
       "      <td>940</td>\n",
       "      <td>4.865248</td>\n",
       "    </tr>\n",
       "    <tr>\n",
       "      <th>4</th>\n",
       "      <td>Oh, the Places You'll Go!</td>\n",
       "      <td>1007</td>\n",
       "      <td>4.860881</td>\n",
       "    </tr>\n",
       "  </tbody>\n",
       "</table>\n",
       "</div>"
      ],
      "text/plain": [
       "                                                                                product_title  \\\n",
       "0  Rush Revere and the American Revolution: Time-Travel Adventures With Exceptional Americans   \n",
       "1       Rush Revere and the First Patriots: Time-Travel Adventures With Exceptional Americans   \n",
       "2                                               Jesus Calling: Enjoying Peace in His Presence   \n",
       "3             The Promise of a Pencil: How an Ordinary Person Can Create Extraordinary Change   \n",
       "4                                                                 Oh, the Places You'll Go!     \n",
       "\n",
       "   review_num    rating  \n",
       "0         687  4.895547  \n",
       "1        1372  4.883428  \n",
       "2        1759  4.881757  \n",
       "3         940  4.865248  \n",
       "4        1007  4.860881  "
      ]
     },
     "execution_count": 95,
     "metadata": {},
     "output_type": "execute_result"
    }
   ],
   "source": [
    "spark.sql(\n",
    "    \"\"\"SELECT t1.product_title, t1.review_num, t2.rating\n",
    "FROM \n",
    "    (select product_title, count(*) as review_num from ustbl \n",
    "    where product_category = 'Books' and year = 2014 \n",
    "    group by product_title \n",
    "    order by review_num DESC \n",
    "    limit 100) t1\n",
    "LEFT JOIN\n",
    "    (select product_title, avg(star_rating) as rating from ustbl \n",
    "    group by product_title) t2\n",
    "ON (t1.product_title = t2.product_title)\n",
    "ORDER BY t2.rating DESC, t1.review_num DESC LIMIT 5\"\"\").toPandas()"
   ]
  },
  {
   "cell_type": "code",
   "execution_count": 96,
   "metadata": {},
   "outputs": [
    {
     "data": {
      "text/html": [
       "<div>\n",
       "<style scoped>\n",
       "    .dataframe tbody tr th:only-of-type {\n",
       "        vertical-align: middle;\n",
       "    }\n",
       "\n",
       "    .dataframe tbody tr th {\n",
       "        vertical-align: top;\n",
       "    }\n",
       "\n",
       "    .dataframe thead th {\n",
       "        text-align: right;\n",
       "    }\n",
       "</style>\n",
       "<table border=\"1\" class=\"dataframe\">\n",
       "  <thead>\n",
       "    <tr style=\"text-align: right;\">\n",
       "      <th></th>\n",
       "      <th>product_title</th>\n",
       "      <th>review_num</th>\n",
       "      <th>rating</th>\n",
       "    </tr>\n",
       "  </thead>\n",
       "  <tbody>\n",
       "    <tr>\n",
       "      <th>0</th>\n",
       "      <td>Little Blue Truck Board Book</td>\n",
       "      <td>867</td>\n",
       "      <td>4.903487</td>\n",
       "    </tr>\n",
       "    <tr>\n",
       "      <th>1</th>\n",
       "      <td>Rush Revere and the American Revolution: Time-Travel Adventures With Exceptional Americans</td>\n",
       "      <td>865</td>\n",
       "      <td>4.895547</td>\n",
       "    </tr>\n",
       "    <tr>\n",
       "      <th>2</th>\n",
       "      <td>Jesus Calling: Enjoying Peace in His Presence</td>\n",
       "      <td>1189</td>\n",
       "      <td>4.881757</td>\n",
       "    </tr>\n",
       "    <tr>\n",
       "      <th>3</th>\n",
       "      <td>Minecraft: The Complete Handbook Collection</td>\n",
       "      <td>625</td>\n",
       "      <td>4.862554</td>\n",
       "    </tr>\n",
       "    <tr>\n",
       "      <th>4</th>\n",
       "      <td>Oh, the Places You'll Go!</td>\n",
       "      <td>1174</td>\n",
       "      <td>4.860881</td>\n",
       "    </tr>\n",
       "  </tbody>\n",
       "</table>\n",
       "</div>"
      ],
      "text/plain": [
       "                                                                                product_title  \\\n",
       "0                                                                Little Blue Truck Board Book   \n",
       "1  Rush Revere and the American Revolution: Time-Travel Adventures With Exceptional Americans   \n",
       "2                                               Jesus Calling: Enjoying Peace in His Presence   \n",
       "3                                                 Minecraft: The Complete Handbook Collection   \n",
       "4                                                                 Oh, the Places You'll Go!     \n",
       "\n",
       "   review_num    rating  \n",
       "0         867  4.903487  \n",
       "1         865  4.895547  \n",
       "2        1189  4.881757  \n",
       "3         625  4.862554  \n",
       "4        1174  4.860881  "
      ]
     },
     "execution_count": 96,
     "metadata": {},
     "output_type": "execute_result"
    }
   ],
   "source": [
    "spark.sql(\n",
    "    \"\"\"SELECT t1.product_title, t1.review_num, t2.rating\n",
    "FROM \n",
    "    (select product_title, count(*) as review_num from ustbl \n",
    "    where product_category = 'Books' and year = 2015 \n",
    "    group by product_title \n",
    "    order by review_num DESC \n",
    "    limit 100) t1\n",
    "LEFT JOIN\n",
    "    (select product_title, avg(star_rating) as rating from ustbl \n",
    "    group by product_title) t2\n",
    "ON (t1.product_title = t2.product_title)\n",
    "ORDER BY t2.rating DESC, t1.review_num DESC LIMIT 5\"\"\").toPandas()"
   ]
  },
  {
   "cell_type": "markdown",
   "metadata": {},
   "source": [
    "### Part c: Average Helpful Vote Amount by Rating"
   ]
  },
  {
   "cell_type": "code",
   "execution_count": 68,
   "metadata": {},
   "outputs": [
    {
     "data": {
      "text/html": [
       "<div>\n",
       "<style scoped>\n",
       "    .dataframe tbody tr th:only-of-type {\n",
       "        vertical-align: middle;\n",
       "    }\n",
       "\n",
       "    .dataframe tbody tr th {\n",
       "        vertical-align: top;\n",
       "    }\n",
       "\n",
       "    .dataframe thead th {\n",
       "        text-align: right;\n",
       "    }\n",
       "</style>\n",
       "<table border=\"1\" class=\"dataframe\">\n",
       "  <thead>\n",
       "    <tr style=\"text-align: right;\">\n",
       "      <th></th>\n",
       "      <th>star_rating</th>\n",
       "      <th>avg_helpful</th>\n",
       "      <th>avg_ttl</th>\n",
       "      <th>percentage</th>\n",
       "    </tr>\n",
       "  </thead>\n",
       "  <tbody>\n",
       "    <tr>\n",
       "      <th>0</th>\n",
       "      <td>5</td>\n",
       "      <td>2.139348</td>\n",
       "      <td>2.715336</td>\n",
       "      <td>0.787876</td>\n",
       "    </tr>\n",
       "    <tr>\n",
       "      <th>1</th>\n",
       "      <td>4</td>\n",
       "      <td>2.249199</td>\n",
       "      <td>2.877892</td>\n",
       "      <td>0.781544</td>\n",
       "    </tr>\n",
       "    <tr>\n",
       "      <th>2</th>\n",
       "      <td>3</td>\n",
       "      <td>3.335227</td>\n",
       "      <td>4.862013</td>\n",
       "      <td>0.685977</td>\n",
       "    </tr>\n",
       "    <tr>\n",
       "      <th>3</th>\n",
       "      <td>2</td>\n",
       "      <td>4.642029</td>\n",
       "      <td>7.615942</td>\n",
       "      <td>0.609515</td>\n",
       "    </tr>\n",
       "    <tr>\n",
       "      <th>4</th>\n",
       "      <td>1</td>\n",
       "      <td>9.928320</td>\n",
       "      <td>20.854289</td>\n",
       "      <td>0.476080</td>\n",
       "    </tr>\n",
       "  </tbody>\n",
       "</table>\n",
       "</div>"
      ],
      "text/plain": [
       "   star_rating  avg_helpful    avg_ttl  percentage\n",
       "0            5     2.139348   2.715336    0.787876\n",
       "1            4     2.249199   2.877892    0.781544\n",
       "2            3     3.335227   4.862013    0.685977\n",
       "3            2     4.642029   7.615942    0.609515\n",
       "4            1     9.928320  20.854289    0.476080"
      ]
     },
     "execution_count": 68,
     "metadata": {},
     "output_type": "execute_result"
    }
   ],
   "source": [
    "# calculate the average helpful vote amount, total vote amount, and the percetage of helpful vote by rating\n",
    "spark.sql(\n",
    "    \"\"\"select star_rating, avg(helpful_votes) as avg_helpful, avg(total_votes) as avg_ttl, avg(helpful_votes)/avg(total_votes) as percentage from ustbl \n",
    "    where product_category = 'Books' and year > 2005\n",
    "    group by star_rating\n",
    "    order by star_rating DESC\"\"\").toPandas()"
   ]
  },
  {
   "cell_type": "markdown",
   "metadata": {},
   "source": [
    "## Part 3: Customer ID Analysis"
   ]
  },
  {
   "cell_type": "markdown",
   "metadata": {},
   "source": [
    "Review amount from same customer to same product."
   ]
  },
  {
   "cell_type": "code",
   "execution_count": 180,
   "metadata": {},
   "outputs": [
    {
     "name": "stdout",
     "output_type": "stream",
     "text": [
      "+-----------+----------+------------------+------------------+-----+\n",
      "|customer_id|product_id|  avg(star_rating)|sum(helpful_votes)|count|\n",
      "+-----------+----------+------------------+------------------+-----+\n",
      "|   38118182|B00003CXTG| 4.230769230769231|               104|  260|\n",
      "|   33132919|B0000TB03W|               5.0|                12|  220|\n",
      "|   29088361|B0000DD7LB| 4.967213114754099|               604|  122|\n",
      "|   23974294|B0000TB03W|               5.0|                 8|  114|\n",
      "|   50432389|B0000DD7LB|               5.0|               258|   98|\n",
      "|   50440254|B00004ZAV3|               5.0|               182|   94|\n",
      "|   32330663|B0000D1FI7|               5.0|               196|   82|\n",
      "|   43622173|B00005JXQU| 4.975609756097561|                53|   82|\n",
      "|   23999101|B0000TB03W|               5.0|                72|   76|\n",
      "|   50891233|B0000TB03W|               5.0|                 2|   74|\n",
      "|   23969117|B0000TB03W| 4.181818181818182|                48|   66|\n",
      "|   52773547|B00004SCX6|               5.0|               172|   64|\n",
      "|   51903243|B00005JMJ4|               1.0|               346|   54|\n",
      "|   50310728|0385489838|               5.0|                65|   46|\n",
      "|   50719680|B00002MZ1X|               5.0|                10|   44|\n",
      "|   50440254|B000002UAO|               5.0|                32|   44|\n",
      "|   24349371|B0000TB03W| 4.954545454545454|                 2|   44|\n",
      "|   49629036|0553282980|3.9047619047619047|                30|   42|\n",
      "|   35799690|B000002UAO|1.9047619047619047|               106|   42|\n",
      "|   50440254|B000002UAR|               5.0|               190|   42|\n",
      "+-----------+----------+------------------+------------------+-----+\n",
      "only showing top 20 rows\n",
      "\n"
     ]
    }
   ],
   "source": [
    "us_reviews.groupBy('customer_id','product_id').agg(F.avg(\"star_rating\"), F.sum(\"helpful_votes\"), F.count(\"*\").alias('count')).sort(col(\"count\").desc()).show()"
   ]
  },
  {
   "cell_type": "markdown",
   "metadata": {},
   "source": [
    "Total helpful vote by customer."
   ]
  },
  {
   "cell_type": "code",
   "execution_count": 182,
   "metadata": {},
   "outputs": [
    {
     "name": "stdout",
     "output_type": "stream",
     "text": [
      "+-----------+----------+\n",
      "|customer_id|totalvotes|\n",
      "+-----------+----------+\n",
      "|   50122160|    260723|\n",
      "|    9286343|    143066|\n",
      "|   44834233|    123936|\n",
      "|   50732546|    122651|\n",
      "|   50881246|    101983|\n",
      "|   52496677|    101074|\n",
      "|   52615377|     93564|\n",
      "|   50913245|     87197|\n",
      "|   52500542|     82237|\n",
      "|   53017806|     75926|\n",
      "|   30669680|     75359|\n",
      "|   52048190|     73260|\n",
      "|   52938899|     70870|\n",
      "|   53090839|     67429|\n",
      "|   39134375|     66090|\n",
      "|   50199793|     62571|\n",
      "|   24936774|     61694|\n",
      "|   51835976|     60692|\n",
      "|   13376158|     56667|\n",
      "|   16378095|     56329|\n",
      "+-----------+----------+\n",
      "only showing top 20 rows\n",
      "\n"
     ]
    }
   ],
   "source": [
    "us_reviews.groupBy('customer_id').agg(F.sum(\"helpful_votes\").alias('totalvotes')).sort(col(\"totalvotes\").desc()).show()"
   ]
  },
  {
   "cell_type": "markdown",
   "metadata": {},
   "source": [
    "## Part 4: Text Classification Models"
   ]
  },
  {
   "cell_type": "markdown",
   "metadata": {},
   "source": [
    "### Data Preparation"
   ]
  },
  {
   "cell_type": "code",
   "execution_count": 100,
   "metadata": {},
   "outputs": [],
   "source": [
    "# subset and focus on books category\n",
    "books = us_reviews.filter(us_reviews.product_category == 'Books')"
   ]
  },
  {
   "cell_type": "code",
   "execution_count": 120,
   "metadata": {},
   "outputs": [],
   "source": [
    "# prepara dataset and select desired columns\n",
    "data = books.select(['star_rating','review_body'])"
   ]
  },
  {
   "cell_type": "code",
   "execution_count": 121,
   "metadata": {},
   "outputs": [],
   "source": [
    "# convert star_rating format from int to string\n",
    "from pyspark.sql.types import *\n",
    "data = data.withColumn(\"star_rating\", data[\"star_rating\"].cast(StringType()))"
   ]
  },
  {
   "cell_type": "code",
   "execution_count": 122,
   "metadata": {},
   "outputs": [
    {
     "name": "stdout",
     "output_type": "stream",
     "text": [
      "root\n",
      " |-- star_rating: string (nullable = true)\n",
      " |-- review_body: string (nullable = true)\n",
      "\n"
     ]
    }
   ],
   "source": [
    "# show data schema\n",
    "data.printSchema()"
   ]
  },
  {
   "cell_type": "code",
   "execution_count": 123,
   "metadata": {},
   "outputs": [],
   "source": [
    "# drop null values\n",
    "data = data.na.drop()"
   ]
  },
  {
   "cell_type": "code",
   "execution_count": 124,
   "metadata": {},
   "outputs": [
    {
     "name": "stdout",
     "output_type": "stream",
     "text": [
      "+-----------+--------------------+\n",
      "|star_rating|         review_body|\n",
      "+-----------+--------------------+\n",
      "|          5|After attending a...|\n",
      "|          4|Krauss traces the...|\n",
      "|          4|Rebecca, a dental...|\n",
      "|          5|\\\\\"BARED TO YOU\\\\...|\n",
      "|          5|Good characters a...|\n",
      "+-----------+--------------------+\n",
      "only showing top 5 rows\n",
      "\n"
     ]
    }
   ],
   "source": [
    "# show first 5 rows of dataset\n",
    "data.show(5)"
   ]
  },
  {
   "cell_type": "markdown",
   "metadata": {},
   "source": [
    "### Model Pipeline"
   ]
  },
  {
   "cell_type": "code",
   "execution_count": 125,
   "metadata": {},
   "outputs": [],
   "source": [
    "from pyspark.ml.feature import RegexTokenizer, StopWordsRemover, CountVectorizer\n",
    "from pyspark.ml.classification import *"
   ]
  },
  {
   "cell_type": "code",
   "execution_count": 126,
   "metadata": {},
   "outputs": [],
   "source": [
    "#data = data.sample(False, 0.0005, 12345)"
   ]
  },
  {
   "cell_type": "code",
   "execution_count": 127,
   "metadata": {},
   "outputs": [],
   "source": [
    "#data.count()"
   ]
  },
  {
   "cell_type": "code",
   "execution_count": 128,
   "metadata": {},
   "outputs": [],
   "source": [
    "# regular expression tokenizer\n",
    "regexTokenizer = RegexTokenizer(inputCol=\"review_body\", outputCol=\"words\", pattern=\"\\\\W\")"
   ]
  },
  {
   "cell_type": "code",
   "execution_count": 129,
   "metadata": {},
   "outputs": [
    {
     "name": "stderr",
     "output_type": "stream",
     "text": [
      "[nltk_data] Downloading package stopwords to /home/hadoop/nltk_data...\n",
      "[nltk_data]   Package stopwords is already up-to-date!\n"
     ]
    }
   ],
   "source": [
    "# stop words\n",
    "import nltk\n",
    "nltk.download('stopwords')\n",
    "from nltk.corpus import stopwords\n",
    "add_stopwords = stopwords.words('english')"
   ]
  },
  {
   "cell_type": "code",
   "execution_count": 130,
   "metadata": {},
   "outputs": [],
   "source": [
    "stopwordsRemover = StopWordsRemover(inputCol=\"words\", outputCol=\"filtered\").setStopWords(add_stopwords)"
   ]
  },
  {
   "cell_type": "code",
   "execution_count": 131,
   "metadata": {},
   "outputs": [],
   "source": [
    "# bag of words count\n",
    "countVectors = CountVectorizer(inputCol=\"filtered\", outputCol=\"features\", vocabSize=10000, minDF=0.1)"
   ]
  },
  {
   "cell_type": "markdown",
   "metadata": {},
   "source": [
    "### StringIndexer and Pipeline"
   ]
  },
  {
   "cell_type": "code",
   "execution_count": 132,
   "metadata": {},
   "outputs": [],
   "source": [
    "from pyspark.ml import Pipeline\n",
    "from pyspark.ml.feature import OneHotEncoder, StringIndexer, VectorAssembler\n",
    "label_stringIdx = StringIndexer(inputCol = \"star_rating\", outputCol = \"label\")"
   ]
  },
  {
   "cell_type": "code",
   "execution_count": 133,
   "metadata": {},
   "outputs": [],
   "source": [
    "# Create pipeline\n",
    "pipeline = Pipeline(stages=[regexTokenizer, stopwordsRemover, countVectors, label_stringIdx])"
   ]
  },
  {
   "cell_type": "code",
   "execution_count": 134,
   "metadata": {},
   "outputs": [
    {
     "name": "stdout",
     "output_type": "stream",
     "text": [
      "+-----------+--------------------+--------------------+--------------------+--------------------+-----+\n",
      "|star_rating|         review_body|               words|            filtered|            features|label|\n",
      "+-----------+--------------------+--------------------+--------------------+--------------------+-----+\n",
      "|          5|After attending a...|[after, attending...|[attending, qigon...|(30,[0,1,2,11,15,...|  0.0|\n",
      "|          4|Krauss traces the...|[krauss, traces, ...|[krauss, traces, ...|(30,[1,3,4,6,10,1...|  1.0|\n",
      "|          4|Rebecca, a dental...|[rebecca, a, dent...|[rebecca, dental,...|(30,[0,1,3,4,5,7,...|  1.0|\n",
      "|          5|\\\\\"BARED TO YOU\\\\...|[bared, to, you, ...|[bared, sizzling,...|(30,[5,12,14,20,2...|  0.0|\n",
      "|          5|Good characters a...|[good, characters...|[good, characters...|(30,[0,8,9,10,19,...|  0.0|\n",
      "+-----------+--------------------+--------------------+--------------------+--------------------+-----+\n",
      "only showing top 5 rows\n",
      "\n"
     ]
    }
   ],
   "source": [
    "# Fit the pipeline to training documents.\n",
    "pipelineFit = pipeline.fit(data)\n",
    "dataset = pipelineFit.transform(data)\n",
    "dataset.show(5)"
   ]
  },
  {
   "cell_type": "markdown",
   "metadata": {},
   "source": [
    "### Build Model"
   ]
  },
  {
   "cell_type": "code",
   "execution_count": 135,
   "metadata": {},
   "outputs": [
    {
     "name": "stdout",
     "output_type": "stream",
     "text": [
      "Training Dataset Count: 14258199\n",
      "Test Dataset Count: 6111743\n"
     ]
    }
   ],
   "source": [
    "# set seed for reproducibility\n",
    "(trainingData, testData) = dataset.randomSplit([0.7, 0.3], seed = 12345)\n",
    "print(\"Training Dataset Count: \" + str(trainingData.count()))\n",
    "print(\"Test Dataset Count: \" + str(testData.count()))"
   ]
  },
  {
   "cell_type": "markdown",
   "metadata": {},
   "source": [
    "#### Logistic Regression"
   ]
  },
  {
   "cell_type": "code",
   "execution_count": 136,
   "metadata": {},
   "outputs": [
    {
     "name": "stdout",
     "output_type": "stream",
     "text": [
      "+-----------+------------------------------+------------------------------+-----+----------+\n",
      "|star_rating|                   review_body|                   probability|label|prediction|\n",
      "+-----------+------------------------------+------------------------------+-----+----------+\n",
      "|          5|I did not read this book. I...|[0.9999995825196806,2.47699...|  0.0|       0.0|\n",
      "|          5|great bookgreat book great ...|[0.9999979795372991,1.99908...|  0.0|       0.0|\n",
      "|          5|great bookgreat book great ...|[0.9999979795372991,1.99908...|  0.0|       0.0|\n",
      "|          5|The book is the same book t...|[0.9999895016539463,9.06772...|  0.0|       0.0|\n",
      "|          5|great bookgreat book great ...|[0.9999643352467107,3.46101...|  0.0|       0.0|\n",
      "|          5|great bookgreat book great ...|[0.9999643352467107,3.46101...|  0.0|       0.0|\n",
      "|          5|great bookgreat book great ...|[0.9999643352467107,3.46101...|  0.0|       0.0|\n",
      "|          5|great bookgreat book great ...|[0.9999643352467107,3.46101...|  0.0|       0.0|\n",
      "|          5|great bookgreat book great ...|[0.9999643352467107,3.46101...|  0.0|       0.0|\n",
      "|          5|great bookgreat book great ...|[0.9999643352467107,3.46101...|  0.0|       0.0|\n",
      "+-----------+------------------------------+------------------------------+-----+----------+\n",
      "only showing top 10 rows\n",
      "\n"
     ]
    }
   ],
   "source": [
    "# Build logistic Regression Model\n",
    "lr = LogisticRegression(maxIter=20, regParam=0.3, elasticNetParam=0)\n",
    "lrModel = lr.fit(trainingData)\n",
    "predictions = lrModel.transform(testData)\n",
    "predictions.filter(predictions['prediction'] == 0) \\\n",
    "    .select(\"star_rating\",\"review_body\",\"probability\",\"label\",\"prediction\") \\\n",
    "    .orderBy(\"probability\", ascending=False) \\\n",
    "    .show(n = 10, truncate = 30)"
   ]
  },
  {
   "cell_type": "code",
   "execution_count": 137,
   "metadata": {},
   "outputs": [
    {
     "data": {
      "text/plain": [
       "0.5286045185106201"
      ]
     },
     "execution_count": 137,
     "metadata": {},
     "output_type": "execute_result"
    }
   ],
   "source": [
    "# Check the evaluation of logistic regression model\n",
    "from pyspark.ml.evaluation import MulticlassClassificationEvaluator\n",
    "evaluator = MulticlassClassificationEvaluator(predictionCol=\"prediction\")\n",
    "evaluator.evaluate(predictions)"
   ]
  },
  {
   "cell_type": "markdown",
   "metadata": {},
   "source": [
    "#### Naive Bayes"
   ]
  },
  {
   "cell_type": "code",
   "execution_count": 139,
   "metadata": {},
   "outputs": [
    {
     "name": "stdout",
     "output_type": "stream",
     "text": [
      "+-----------+------------------------------+------------------------------+-----+----------+\n",
      "|star_rating|                   review_body|                   probability|label|prediction|\n",
      "+-----------+------------------------------+------------------------------+-----+----------+\n",
      "|          5|The book is the same book t...|[1.0,4.975443698889049E-22,...|  0.0|       0.0|\n",
      "|          5|great bookgreat book great ...|[1.0,1.254473009875087E-23,...|  0.0|       0.0|\n",
      "|          5|great bookgreat book great ...|[1.0,1.254473009875087E-23,...|  0.0|       0.0|\n",
      "|          5|great bookgreat book great ...|[1.0,1.254473009875087E-23,...|  0.0|       0.0|\n",
      "|          5|great bookgreat book great ...|[1.0,1.254473009875087E-23,...|  0.0|       0.0|\n",
      "|          5|great bookgreat book great ...|[1.0,1.254473009875087E-23,...|  0.0|       0.0|\n",
      "|          5|great bookgreat book great ...|[1.0,1.254473009875087E-23,...|  0.0|       0.0|\n",
      "|          5|great bookgreat book great ...|[1.0,6.802480453381727E-31,...|  0.0|       0.0|\n",
      "|          5|great bookgreat book great ...|[1.0,6.802480453381727E-31,...|  0.0|       0.0|\n",
      "|          5|I did not read this book. I...|[1.0,1.5452433416494178E-19...|  0.0|       0.0|\n",
      "+-----------+------------------------------+------------------------------+-----+----------+\n",
      "only showing top 10 rows\n",
      "\n"
     ]
    }
   ],
   "source": [
    "# Build Naive Bayes Model\n",
    "nb = NaiveBayes(smoothing=1)\n",
    "model = nb.fit(trainingData)\n",
    "predictions = model.transform(testData)\n",
    "predictions.filter(predictions['prediction'] == 0) \\\n",
    "    .select(\"star_rating\",\"review_body\",\"probability\",\"label\",\"prediction\") \\\n",
    "    .orderBy(\"probability\", ascending=False) \\\n",
    "    .show(n = 10, truncate = 30)"
   ]
  },
  {
   "cell_type": "code",
   "execution_count": 140,
   "metadata": {},
   "outputs": [
    {
     "data": {
      "text/plain": [
       "0.551036634353428"
      ]
     },
     "execution_count": 140,
     "metadata": {},
     "output_type": "execute_result"
    }
   ],
   "source": [
    "# Check the evaluation of naive bayes model\n",
    "evaluator = MulticlassClassificationEvaluator(predictionCol=\"prediction\")\n",
    "evaluator.evaluate(predictions)"
   ]
  },
  {
   "cell_type": "markdown",
   "metadata": {},
   "source": [
    "#### Random Forest"
   ]
  },
  {
   "cell_type": "code",
   "execution_count": 141,
   "metadata": {},
   "outputs": [
    {
     "name": "stdout",
     "output_type": "stream",
     "text": [
      "+-----------+------------------------------+------------------------------+-----+----------+\n",
      "|star_rating|                   review_body|                   probability|label|prediction|\n",
      "+-----------+------------------------------+------------------------------+-----+----------+\n",
      "|          1|#1  Glad I only spent 1 cen...|[0.658958212983804,0.171267...|  3.0|       0.0|\n",
      "|          1|&quot;And many false prophe...|[0.658958212983804,0.171267...|  3.0|       0.0|\n",
      "|          1|&quot;I don't wanna know yo...|[0.658958212983804,0.171267...|  3.0|       0.0|\n",
      "|          1|&quot;Let a Lover of Truth ...|[0.658958212983804,0.171267...|  3.0|       0.0|\n",
      "|          1|&quot;Unfortunate slickness...|[0.658958212983804,0.171267...|  3.0|       0.0|\n",
      "|          1|&quot;Well-behaved women ra...|[0.658958212983804,0.171267...|  3.0|       0.0|\n",
      "|          1|'\\\\\"Begin at the beginning,...|[0.658958212983804,0.171267...|  3.0|       0.0|\n",
      "|          1|'\\\\\"You bugger,\\\\\" she spat...|[0.658958212983804,0.171267...|  3.0|       0.0|\n",
      "|          1|(... This) is a story about...|[0.658958212983804,0.171267...|  3.0|       0.0|\n",
      "|          1|(...) <BR>The Bosnjaks are ...|[0.658958212983804,0.171267...|  3.0|       0.0|\n",
      "+-----------+------------------------------+------------------------------+-----+----------+\n",
      "only showing top 10 rows\n",
      "\n"
     ]
    }
   ],
   "source": [
    "# Build Random Forest Model\n",
    "rf = RandomForestClassifier(labelCol=\"label\", \\\n",
    "                            featuresCol=\"features\", \\\n",
    "                            numTrees = 100, \\\n",
    "                            maxDepth = 4, \\\n",
    "                            maxBins = 32)\n",
    "# Train model with Training Data\n",
    "rfModel = rf.fit(trainingData)\n",
    "predictions = rfModel.transform(testData)\n",
    "predictions.filter(predictions['prediction'] == 0) \\\n",
    "    .select(\"star_rating\",\"review_body\",\"probability\",\"label\",\"prediction\") \\\n",
    "    .orderBy(\"probability\", ascending=False) \\\n",
    "    .show(n = 10, truncate = 30)"
   ]
  },
  {
   "cell_type": "code",
   "execution_count": 142,
   "metadata": {},
   "outputs": [
    {
     "data": {
      "text/plain": [
       "0.5237310182460008"
      ]
     },
     "execution_count": 142,
     "metadata": {},
     "output_type": "execute_result"
    }
   ],
   "source": [
    "# Check the evaluation of random forest model\n",
    "evaluator = MulticlassClassificationEvaluator(predictionCol=\"prediction\")\n",
    "evaluator.evaluate(predictions)"
   ]
  },
  {
   "cell_type": "markdown",
   "metadata": {},
   "source": [
    "### Stop spark"
   ]
  },
  {
   "cell_type": "code",
   "execution_count": 184,
   "metadata": {},
   "outputs": [],
   "source": [
    "spark.stop()"
   ]
  },
  {
   "cell_type": "code",
   "execution_count": null,
   "metadata": {},
   "outputs": [],
   "source": []
  }
 ],
 "metadata": {
  "kernelspec": {
   "display_name": "Python 3",
   "language": "python",
   "name": "python3"
  },
  "language_info": {
   "codemirror_mode": {
    "name": "ipython",
    "version": 3
   },
   "file_extension": ".py",
   "mimetype": "text/x-python",
   "name": "python",
   "nbconvert_exporter": "python",
   "pygments_lexer": "ipython3",
   "version": "3.6.8"
  }
 },
 "nbformat": 4,
 "nbformat_minor": 2
}
